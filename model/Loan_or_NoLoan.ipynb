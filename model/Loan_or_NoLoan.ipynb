{
  "nbformat": 4,
  "nbformat_minor": 0,
  "metadata": {
    "colab": {
      "name": "Loan_or_NoLoan.ipynb",
      "provenance": [],
      "collapsed_sections": []
    },
    "kernelspec": {
      "name": "python3",
      "display_name": "Python 3"
    }
  },
  "cells": [
    {
      "cell_type": "code",
      "metadata": {
        "colab": {
          "base_uri": "https://localhost:8080/"
        },
        "id": "FTGpKezmLXxg",
        "outputId": "f0c4b5c8-cd92-43bd-8df3-faee54d06482"
      },
      "source": [
        "!pip install scikit-learn==0.23.1"
      ],
      "execution_count": 1,
      "outputs": [
        {
          "output_type": "stream",
          "text": [
            "Collecting scikit-learn==0.23.1\n",
            "\u001b[?25l  Downloading https://files.pythonhosted.org/packages/d9/3a/eb8d7bbe28f4787d140bb9df685b7d5bf6115c0e2a969def4027144e98b6/scikit_learn-0.23.1-cp36-cp36m-manylinux1_x86_64.whl (6.8MB)\n",
            "\u001b[K     |████████████████████████████████| 6.9MB 6.3MB/s \n",
            "\u001b[?25hRequirement already satisfied: scipy>=0.19.1 in /usr/local/lib/python3.6/dist-packages (from scikit-learn==0.23.1) (1.4.1)\n",
            "Collecting threadpoolctl>=2.0.0\n",
            "  Downloading https://files.pythonhosted.org/packages/f7/12/ec3f2e203afa394a149911729357aa48affc59c20e2c1c8297a60f33f133/threadpoolctl-2.1.0-py3-none-any.whl\n",
            "Requirement already satisfied: joblib>=0.11 in /usr/local/lib/python3.6/dist-packages (from scikit-learn==0.23.1) (1.0.0)\n",
            "Requirement already satisfied: numpy>=1.13.3 in /usr/local/lib/python3.6/dist-packages (from scikit-learn==0.23.1) (1.19.4)\n",
            "Installing collected packages: threadpoolctl, scikit-learn\n",
            "  Found existing installation: scikit-learn 0.22.2.post1\n",
            "    Uninstalling scikit-learn-0.22.2.post1:\n",
            "      Successfully uninstalled scikit-learn-0.22.2.post1\n",
            "Successfully installed scikit-learn-0.23.1 threadpoolctl-2.1.0\n"
          ],
          "name": "stdout"
        }
      ]
    },
    {
      "cell_type": "code",
      "metadata": {
        "colab": {
          "base_uri": "https://localhost:8080/"
        },
        "id": "99FtKYyQLwJd",
        "outputId": "81ed3d2c-482d-45c3-ad81-7583e94b029d"
      },
      "source": [
        "!pip install -U imbalanced-learn"
      ],
      "execution_count": 2,
      "outputs": [
        {
          "output_type": "stream",
          "text": [
            "Collecting imbalanced-learn\n",
            "\u001b[?25l  Downloading https://files.pythonhosted.org/packages/c8/81/8db4d87b03b998fda7c6f835d807c9ae4e3b141f978597b8d7f31600be15/imbalanced_learn-0.7.0-py3-none-any.whl (167kB)\n",
            "\r\u001b[K     |██                              | 10kB 14.2MB/s eta 0:00:01\r\u001b[K     |████                            | 20kB 18.9MB/s eta 0:00:01\r\u001b[K     |█████▉                          | 30kB 20.9MB/s eta 0:00:01\r\u001b[K     |███████▉                        | 40kB 14.2MB/s eta 0:00:01\r\u001b[K     |█████████▉                      | 51kB 9.1MB/s eta 0:00:01\r\u001b[K     |███████████▊                    | 61kB 8.8MB/s eta 0:00:01\r\u001b[K     |█████████████▊                  | 71kB 8.4MB/s eta 0:00:01\r\u001b[K     |███████████████▊                | 81kB 9.0MB/s eta 0:00:01\r\u001b[K     |█████████████████▋              | 92kB 8.7MB/s eta 0:00:01\r\u001b[K     |███████████████████▋            | 102kB 9.1MB/s eta 0:00:01\r\u001b[K     |█████████████████████▋          | 112kB 9.1MB/s eta 0:00:01\r\u001b[K     |███████████████████████▌        | 122kB 9.1MB/s eta 0:00:01\r\u001b[K     |█████████████████████████▌      | 133kB 9.1MB/s eta 0:00:01\r\u001b[K     |███████████████████████████▌    | 143kB 9.1MB/s eta 0:00:01\r\u001b[K     |█████████████████████████████▍  | 153kB 9.1MB/s eta 0:00:01\r\u001b[K     |███████████████████████████████▍| 163kB 9.1MB/s eta 0:00:01\r\u001b[K     |████████████████████████████████| 174kB 9.1MB/s \n",
            "\u001b[?25hRequirement already satisfied, skipping upgrade: numpy>=1.13.3 in /usr/local/lib/python3.6/dist-packages (from imbalanced-learn) (1.19.4)\n",
            "Requirement already satisfied, skipping upgrade: joblib>=0.11 in /usr/local/lib/python3.6/dist-packages (from imbalanced-learn) (1.0.0)\n",
            "Requirement already satisfied, skipping upgrade: scipy>=0.19.1 in /usr/local/lib/python3.6/dist-packages (from imbalanced-learn) (1.4.1)\n",
            "Requirement already satisfied, skipping upgrade: scikit-learn>=0.23 in /usr/local/lib/python3.6/dist-packages (from imbalanced-learn) (0.23.1)\n",
            "Requirement already satisfied, skipping upgrade: threadpoolctl>=2.0.0 in /usr/local/lib/python3.6/dist-packages (from scikit-learn>=0.23->imbalanced-learn) (2.1.0)\n",
            "Installing collected packages: imbalanced-learn\n",
            "  Found existing installation: imbalanced-learn 0.4.3\n",
            "    Uninstalling imbalanced-learn-0.4.3:\n",
            "      Successfully uninstalled imbalanced-learn-0.4.3\n",
            "Successfully installed imbalanced-learn-0.7.0\n"
          ],
          "name": "stdout"
        }
      ]
    },
    {
      "cell_type": "code",
      "metadata": {
        "colab": {
          "base_uri": "https://localhost:8080/"
        },
        "id": "OcGKE_oNMOBJ",
        "outputId": "be8ce8e8-d471-4861-f11c-c498a143dc2a"
      },
      "source": [
        "!python3 --version"
      ],
      "execution_count": 3,
      "outputs": [
        {
          "output_type": "stream",
          "text": [
            "Python 3.6.9\n"
          ],
          "name": "stdout"
        }
      ]
    },
    {
      "cell_type": "code",
      "metadata": {
        "colab": {
          "base_uri": "https://localhost:8080/"
        },
        "id": "JP8jbXELN8E3",
        "outputId": "6ce06fed-9585-4905-acf2-13f241a51f81"
      },
      "source": [
        "pip install -U git+https://github.com/scikit-learn-contrib/imbalanced-learn.git"
      ],
      "execution_count": 4,
      "outputs": [
        {
          "output_type": "stream",
          "text": [
            "Collecting git+https://github.com/scikit-learn-contrib/imbalanced-learn.git\n",
            "  Cloning https://github.com/scikit-learn-contrib/imbalanced-learn.git to /tmp/pip-req-build-h4sz0qnn\n",
            "  Running command git clone -q https://github.com/scikit-learn-contrib/imbalanced-learn.git /tmp/pip-req-build-h4sz0qnn\n",
            "Requirement already satisfied, skipping upgrade: numpy>=1.13.3 in /usr/local/lib/python3.6/dist-packages (from imbalanced-learn==0.7.0) (1.19.4)\n",
            "Requirement already satisfied, skipping upgrade: scipy>=0.19.1 in /usr/local/lib/python3.6/dist-packages (from imbalanced-learn==0.7.0) (1.4.1)\n",
            "Requirement already satisfied, skipping upgrade: scikit-learn>=0.23 in /usr/local/lib/python3.6/dist-packages (from imbalanced-learn==0.7.0) (0.23.1)\n",
            "Requirement already satisfied, skipping upgrade: joblib>=0.11 in /usr/local/lib/python3.6/dist-packages (from imbalanced-learn==0.7.0) (1.0.0)\n",
            "Requirement already satisfied, skipping upgrade: threadpoolctl>=2.0.0 in /usr/local/lib/python3.6/dist-packages (from scikit-learn>=0.23->imbalanced-learn==0.7.0) (2.1.0)\n",
            "Building wheels for collected packages: imbalanced-learn\n",
            "  Building wheel for imbalanced-learn (setup.py) ... \u001b[?25l\u001b[?25hdone\n",
            "  Created wheel for imbalanced-learn: filename=imbalanced_learn-0.7.0-cp36-none-any.whl size=178920 sha256=b707c2baf664b48ebcb1fb5350919c4ccbd039f41a3b77514124ffb3fabf21f2\n",
            "  Stored in directory: /tmp/pip-ephem-wheel-cache-uhsp798k/wheels/6c/07/cf/38cb9b7cc9e6a0ac7648a80ec192b6f2d863405fb0049ac0ff\n",
            "Successfully built imbalanced-learn\n",
            "Installing collected packages: imbalanced-learn\n",
            "  Found existing installation: imbalanced-learn 0.7.0\n",
            "    Uninstalling imbalanced-learn-0.7.0:\n",
            "      Successfully uninstalled imbalanced-learn-0.7.0\n",
            "Successfully installed imbalanced-learn-0.7.0\n"
          ],
          "name": "stdout"
        }
      ]
    },
    {
      "cell_type": "code",
      "metadata": {
        "colab": {
          "base_uri": "https://localhost:8080/"
        },
        "id": "LDPTYH1gO-yg",
        "outputId": "0b0b5d5f-20ab-42be-c325-85f2fb0284c4"
      },
      "source": [
        "!pip install imblearn"
      ],
      "execution_count": 5,
      "outputs": [
        {
          "output_type": "stream",
          "text": [
            "Requirement already satisfied: imblearn in /usr/local/lib/python3.6/dist-packages (0.0)\n",
            "Requirement already satisfied: imbalanced-learn in /usr/local/lib/python3.6/dist-packages (from imblearn) (0.7.0)\n",
            "Requirement already satisfied: scipy>=0.19.1 in /usr/local/lib/python3.6/dist-packages (from imbalanced-learn->imblearn) (1.4.1)\n",
            "Requirement already satisfied: joblib>=0.11 in /usr/local/lib/python3.6/dist-packages (from imbalanced-learn->imblearn) (1.0.0)\n",
            "Requirement already satisfied: numpy>=1.13.3 in /usr/local/lib/python3.6/dist-packages (from imbalanced-learn->imblearn) (1.19.4)\n",
            "Requirement already satisfied: scikit-learn>=0.23 in /usr/local/lib/python3.6/dist-packages (from imbalanced-learn->imblearn) (0.23.1)\n",
            "Requirement already satisfied: threadpoolctl>=2.0.0 in /usr/local/lib/python3.6/dist-packages (from scikit-learn>=0.23->imbalanced-learn->imblearn) (2.1.0)\n"
          ],
          "name": "stdout"
        }
      ]
    },
    {
      "cell_type": "code",
      "metadata": {
        "colab": {
          "base_uri": "https://localhost:8080/"
        },
        "id": "BOUcvSE5P_B8",
        "outputId": "30fb13fc-4b48-44dc-9dc5-52376531b771"
      },
      "source": [
        "pip install -U imbalanced-learn"
      ],
      "execution_count": 6,
      "outputs": [
        {
          "output_type": "stream",
          "text": [
            "Requirement already up-to-date: imbalanced-learn in /usr/local/lib/python3.6/dist-packages (0.7.0)\n",
            "Requirement already satisfied, skipping upgrade: scikit-learn>=0.23 in /usr/local/lib/python3.6/dist-packages (from imbalanced-learn) (0.23.1)\n",
            "Requirement already satisfied, skipping upgrade: joblib>=0.11 in /usr/local/lib/python3.6/dist-packages (from imbalanced-learn) (1.0.0)\n",
            "Requirement already satisfied, skipping upgrade: numpy>=1.13.3 in /usr/local/lib/python3.6/dist-packages (from imbalanced-learn) (1.19.4)\n",
            "Requirement already satisfied, skipping upgrade: scipy>=0.19.1 in /usr/local/lib/python3.6/dist-packages (from imbalanced-learn) (1.4.1)\n",
            "Requirement already satisfied, skipping upgrade: threadpoolctl>=2.0.0 in /usr/local/lib/python3.6/dist-packages (from scikit-learn>=0.23->imbalanced-learn) (2.1.0)\n"
          ],
          "name": "stdout"
        }
      ]
    },
    {
      "cell_type": "code",
      "metadata": {
        "id": "gUHDdOTHmJru"
      },
      "source": [
        "import pandas as pd     # package for data analysis\n",
        "import numpy as np      # package for numerical computations\n",
        "\n",
        "# libraries for visualization\n",
        "from matplotlib import pyplot as plt\n",
        "plt.style.use('fivethirtyeight')\n",
        "import seaborn as sns\n",
        "\n",
        "from sklearn.model_selection import train_test_split\n",
        "from sklearn.metrics import accuracy_score\n",
        "\n",
        "# to ignore warnings\n",
        "import warnings\n",
        "warnings.filterwarnings('ignore')\n",
        "\n",
        "# For Preprocessing, ML models and Evaluation\n",
        "from sklearn.model_selection import train_test_split, cross_val_score, RandomizedSearchCV, GridSearchCV\n",
        "from sklearn.linear_model import LogisticRegression     # Logistic regression model\n",
        "from xgboost import XGBClassifier\n",
        "from sklearn.pipeline import Pipeline\n",
        "from sklearn.datasets import make_classification\n",
        "from sklearn.preprocessing import StandardScaler\n",
        "from sklearn import preprocessing\n",
        "from sklearn.preprocessing import LabelEncoder    # for converting categorical to numerical\n",
        "from statistics import mean \n",
        "from sklearn.metrics import classification_report, confusion_matrix, accuracy_score, f1_score, r2_score, mean_squared_error   # for model evaluation\n",
        "\n",
        "%matplotlib inline"
      ],
      "execution_count": 7,
      "outputs": []
    },
    {
      "cell_type": "code",
      "metadata": {
        "colab": {
          "base_uri": "https://localhost:8080/"
        },
        "id": "xkP0bVHMmRf1",
        "outputId": "23e5eda0-e67a-4dd1-9424-2e181ccbf12b"
      },
      "source": [
        "# In read_csv() function, we have passed the location to where the file is located at dphi official github page\n",
        "loan_data  = pd.read_csv(\"https://raw.githubusercontent.com/dphi-official/Datasets/master/Loan_Data/loan_train.csv\" )\n",
        "loan_data.shape"
      ],
      "execution_count": 8,
      "outputs": [
        {
          "output_type": "execute_result",
          "data": {
            "text/plain": [
              "(491, 14)"
            ]
          },
          "metadata": {
            "tags": []
          },
          "execution_count": 8
        }
      ]
    },
    {
      "cell_type": "code",
      "metadata": {
        "colab": {
          "base_uri": "https://localhost:8080/"
        },
        "id": "O6e_KdfUoRD_",
        "outputId": "21056faa-6d33-4d53-b62f-8f9054d90606"
      },
      "source": [
        "test_data = pd.read_csv('https://raw.githubusercontent.com/dphi-official/Datasets/master/Loan_Data/loan_test.csv')\n",
        "test_data.shape"
      ],
      "execution_count": 9,
      "outputs": [
        {
          "output_type": "execute_result",
          "data": {
            "text/plain": [
              "(123, 12)"
            ]
          },
          "metadata": {
            "tags": []
          },
          "execution_count": 9
        }
      ]
    },
    {
      "cell_type": "code",
      "metadata": {
        "colab": {
          "base_uri": "https://localhost:8080/",
          "height": 275
        },
        "id": "jPHUNebQmlk_",
        "outputId": "5b13304a-0f10-4cc0-af4c-5be7a4283440"
      },
      "source": [
        "loan_data.head()       # head() returns you the first five rows of the data. Similarly, you can use tail() to get last 5 rows of data"
      ],
      "execution_count": 10,
      "outputs": [
        {
          "output_type": "execute_result",
          "data": {
            "text/html": [
              "<div>\n",
              "<style scoped>\n",
              "    .dataframe tbody tr th:only-of-type {\n",
              "        vertical-align: middle;\n",
              "    }\n",
              "\n",
              "    .dataframe tbody tr th {\n",
              "        vertical-align: top;\n",
              "    }\n",
              "\n",
              "    .dataframe thead th {\n",
              "        text-align: right;\n",
              "    }\n",
              "</style>\n",
              "<table border=\"1\" class=\"dataframe\">\n",
              "  <thead>\n",
              "    <tr style=\"text-align: right;\">\n",
              "      <th></th>\n",
              "      <th>Unnamed: 0</th>\n",
              "      <th>Loan_ID</th>\n",
              "      <th>Gender</th>\n",
              "      <th>Married</th>\n",
              "      <th>Dependents</th>\n",
              "      <th>Education</th>\n",
              "      <th>Self_Employed</th>\n",
              "      <th>ApplicantIncome</th>\n",
              "      <th>CoapplicantIncome</th>\n",
              "      <th>LoanAmount</th>\n",
              "      <th>Loan_Amount_Term</th>\n",
              "      <th>Credit_History</th>\n",
              "      <th>Property_Area</th>\n",
              "      <th>Loan_Status</th>\n",
              "    </tr>\n",
              "  </thead>\n",
              "  <tbody>\n",
              "    <tr>\n",
              "      <th>0</th>\n",
              "      <td>0</td>\n",
              "      <td>LP002305</td>\n",
              "      <td>Female</td>\n",
              "      <td>No</td>\n",
              "      <td>0</td>\n",
              "      <td>Graduate</td>\n",
              "      <td>No</td>\n",
              "      <td>4547</td>\n",
              "      <td>0.0</td>\n",
              "      <td>115.0</td>\n",
              "      <td>360.0</td>\n",
              "      <td>1.0</td>\n",
              "      <td>Semiurban</td>\n",
              "      <td>1</td>\n",
              "    </tr>\n",
              "    <tr>\n",
              "      <th>1</th>\n",
              "      <td>1</td>\n",
              "      <td>LP001715</td>\n",
              "      <td>Male</td>\n",
              "      <td>Yes</td>\n",
              "      <td>3+</td>\n",
              "      <td>Not Graduate</td>\n",
              "      <td>Yes</td>\n",
              "      <td>5703</td>\n",
              "      <td>0.0</td>\n",
              "      <td>130.0</td>\n",
              "      <td>360.0</td>\n",
              "      <td>1.0</td>\n",
              "      <td>Rural</td>\n",
              "      <td>1</td>\n",
              "    </tr>\n",
              "    <tr>\n",
              "      <th>2</th>\n",
              "      <td>2</td>\n",
              "      <td>LP002086</td>\n",
              "      <td>Female</td>\n",
              "      <td>Yes</td>\n",
              "      <td>0</td>\n",
              "      <td>Graduate</td>\n",
              "      <td>No</td>\n",
              "      <td>4333</td>\n",
              "      <td>2451.0</td>\n",
              "      <td>110.0</td>\n",
              "      <td>360.0</td>\n",
              "      <td>1.0</td>\n",
              "      <td>Urban</td>\n",
              "      <td>0</td>\n",
              "    </tr>\n",
              "    <tr>\n",
              "      <th>3</th>\n",
              "      <td>3</td>\n",
              "      <td>LP001136</td>\n",
              "      <td>Male</td>\n",
              "      <td>Yes</td>\n",
              "      <td>0</td>\n",
              "      <td>Not Graduate</td>\n",
              "      <td>Yes</td>\n",
              "      <td>4695</td>\n",
              "      <td>0.0</td>\n",
              "      <td>96.0</td>\n",
              "      <td>NaN</td>\n",
              "      <td>1.0</td>\n",
              "      <td>Urban</td>\n",
              "      <td>1</td>\n",
              "    </tr>\n",
              "    <tr>\n",
              "      <th>4</th>\n",
              "      <td>4</td>\n",
              "      <td>LP002529</td>\n",
              "      <td>Male</td>\n",
              "      <td>Yes</td>\n",
              "      <td>2</td>\n",
              "      <td>Graduate</td>\n",
              "      <td>No</td>\n",
              "      <td>6700</td>\n",
              "      <td>1750.0</td>\n",
              "      <td>230.0</td>\n",
              "      <td>300.0</td>\n",
              "      <td>1.0</td>\n",
              "      <td>Semiurban</td>\n",
              "      <td>1</td>\n",
              "    </tr>\n",
              "  </tbody>\n",
              "</table>\n",
              "</div>"
            ],
            "text/plain": [
              "   Unnamed: 0   Loan_ID  Gender  ... Credit_History Property_Area Loan_Status\n",
              "0           0  LP002305  Female  ...            1.0     Semiurban           1\n",
              "1           1  LP001715    Male  ...            1.0         Rural           1\n",
              "2           2  LP002086  Female  ...            1.0         Urban           0\n",
              "3           3  LP001136    Male  ...            1.0         Urban           1\n",
              "4           4  LP002529    Male  ...            1.0     Semiurban           1\n",
              "\n",
              "[5 rows x 14 columns]"
            ]
          },
          "metadata": {
            "tags": []
          },
          "execution_count": 10
        }
      ]
    },
    {
      "cell_type": "code",
      "metadata": {
        "colab": {
          "base_uri": "https://localhost:8080/",
          "height": 275
        },
        "id": "vvyGl2Ej9YFZ",
        "outputId": "15a52fea-329e-45d3-a94b-97e031f5dd03"
      },
      "source": [
        "test_data.head()"
      ],
      "execution_count": 11,
      "outputs": [
        {
          "output_type": "execute_result",
          "data": {
            "text/html": [
              "<div>\n",
              "<style scoped>\n",
              "    .dataframe tbody tr th:only-of-type {\n",
              "        vertical-align: middle;\n",
              "    }\n",
              "\n",
              "    .dataframe tbody tr th {\n",
              "        vertical-align: top;\n",
              "    }\n",
              "\n",
              "    .dataframe thead th {\n",
              "        text-align: right;\n",
              "    }\n",
              "</style>\n",
              "<table border=\"1\" class=\"dataframe\">\n",
              "  <thead>\n",
              "    <tr style=\"text-align: right;\">\n",
              "      <th></th>\n",
              "      <th>Loan_ID</th>\n",
              "      <th>Gender</th>\n",
              "      <th>Married</th>\n",
              "      <th>Dependents</th>\n",
              "      <th>Education</th>\n",
              "      <th>Self_Employed</th>\n",
              "      <th>ApplicantIncome</th>\n",
              "      <th>CoapplicantIncome</th>\n",
              "      <th>LoanAmount</th>\n",
              "      <th>Loan_Amount_Term</th>\n",
              "      <th>Credit_History</th>\n",
              "      <th>Property_Area</th>\n",
              "    </tr>\n",
              "  </thead>\n",
              "  <tbody>\n",
              "    <tr>\n",
              "      <th>0</th>\n",
              "      <td>LP001116</td>\n",
              "      <td>Male</td>\n",
              "      <td>No</td>\n",
              "      <td>0</td>\n",
              "      <td>Not Graduate</td>\n",
              "      <td>No</td>\n",
              "      <td>3748</td>\n",
              "      <td>1668.0</td>\n",
              "      <td>110.0</td>\n",
              "      <td>360.0</td>\n",
              "      <td>1.0</td>\n",
              "      <td>Semiurban</td>\n",
              "    </tr>\n",
              "    <tr>\n",
              "      <th>1</th>\n",
              "      <td>LP001488</td>\n",
              "      <td>Male</td>\n",
              "      <td>Yes</td>\n",
              "      <td>3+</td>\n",
              "      <td>Graduate</td>\n",
              "      <td>No</td>\n",
              "      <td>4000</td>\n",
              "      <td>7750.0</td>\n",
              "      <td>290.0</td>\n",
              "      <td>360.0</td>\n",
              "      <td>1.0</td>\n",
              "      <td>Semiurban</td>\n",
              "    </tr>\n",
              "    <tr>\n",
              "      <th>2</th>\n",
              "      <td>LP002138</td>\n",
              "      <td>Male</td>\n",
              "      <td>Yes</td>\n",
              "      <td>0</td>\n",
              "      <td>Graduate</td>\n",
              "      <td>No</td>\n",
              "      <td>2625</td>\n",
              "      <td>6250.0</td>\n",
              "      <td>187.0</td>\n",
              "      <td>360.0</td>\n",
              "      <td>1.0</td>\n",
              "      <td>Rural</td>\n",
              "    </tr>\n",
              "    <tr>\n",
              "      <th>3</th>\n",
              "      <td>LP002284</td>\n",
              "      <td>Male</td>\n",
              "      <td>No</td>\n",
              "      <td>0</td>\n",
              "      <td>Not Graduate</td>\n",
              "      <td>No</td>\n",
              "      <td>3902</td>\n",
              "      <td>1666.0</td>\n",
              "      <td>109.0</td>\n",
              "      <td>360.0</td>\n",
              "      <td>1.0</td>\n",
              "      <td>Rural</td>\n",
              "    </tr>\n",
              "    <tr>\n",
              "      <th>4</th>\n",
              "      <td>LP002328</td>\n",
              "      <td>Male</td>\n",
              "      <td>Yes</td>\n",
              "      <td>0</td>\n",
              "      <td>Not Graduate</td>\n",
              "      <td>No</td>\n",
              "      <td>6096</td>\n",
              "      <td>0.0</td>\n",
              "      <td>218.0</td>\n",
              "      <td>360.0</td>\n",
              "      <td>0.0</td>\n",
              "      <td>Rural</td>\n",
              "    </tr>\n",
              "  </tbody>\n",
              "</table>\n",
              "</div>"
            ],
            "text/plain": [
              "    Loan_ID Gender Married  ... Loan_Amount_Term Credit_History Property_Area\n",
              "0  LP001116   Male      No  ...            360.0            1.0     Semiurban\n",
              "1  LP001488   Male     Yes  ...            360.0            1.0     Semiurban\n",
              "2  LP002138   Male     Yes  ...            360.0            1.0         Rural\n",
              "3  LP002284   Male      No  ...            360.0            1.0         Rural\n",
              "4  LP002328   Male     Yes  ...            360.0            0.0         Rural\n",
              "\n",
              "[5 rows x 12 columns]"
            ]
          },
          "metadata": {
            "tags": []
          },
          "execution_count": 11
        }
      ]
    },
    {
      "cell_type": "code",
      "metadata": {
        "colab": {
          "base_uri": "https://localhost:8080/"
        },
        "id": "e58vAzkXm6m5",
        "outputId": "d412898b-58f4-4951-d211-ba2ac2eb1047"
      },
      "source": [
        "loan_data.columns"
      ],
      "execution_count": 12,
      "outputs": [
        {
          "output_type": "execute_result",
          "data": {
            "text/plain": [
              "Index(['Unnamed: 0', 'Loan_ID', 'Gender', 'Married', 'Dependents', 'Education',\n",
              "       'Self_Employed', 'ApplicantIncome', 'CoapplicantIncome', 'LoanAmount',\n",
              "       'Loan_Amount_Term', 'Credit_History', 'Property_Area', 'Loan_Status'],\n",
              "      dtype='object')"
            ]
          },
          "metadata": {
            "tags": []
          },
          "execution_count": 12
        }
      ]
    },
    {
      "cell_type": "code",
      "metadata": {
        "colab": {
          "base_uri": "https://localhost:8080/"
        },
        "id": "bwi2p2Kcm_jf",
        "outputId": "cce1962c-090d-440d-b027-ce515acf0ade"
      },
      "source": [
        "loan_data.info"
      ],
      "execution_count": 13,
      "outputs": [
        {
          "output_type": "execute_result",
          "data": {
            "text/plain": [
              "<bound method DataFrame.info of      Unnamed: 0   Loan_ID  Gender  ... Credit_History Property_Area Loan_Status\n",
              "0             0  LP002305  Female  ...            1.0     Semiurban           1\n",
              "1             1  LP001715    Male  ...            1.0         Rural           1\n",
              "2             2  LP002086  Female  ...            1.0         Urban           0\n",
              "3             3  LP001136    Male  ...            1.0         Urban           1\n",
              "4             4  LP002529    Male  ...            1.0     Semiurban           1\n",
              "..          ...       ...     ...  ...            ...           ...         ...\n",
              "486         486  LP002103     NaN  ...            1.0         Urban           1\n",
              "487         487  LP001790  Female  ...            1.0         Rural           1\n",
              "488         488  LP001401    Male  ...            1.0         Rural           1\n",
              "489         489  LP002893    Male  ...            1.0         Urban           0\n",
              "490         490  LP002777    Male  ...            1.0         Rural           1\n",
              "\n",
              "[491 rows x 14 columns]>"
            ]
          },
          "metadata": {
            "tags": []
          },
          "execution_count": 13
        }
      ]
    },
    {
      "cell_type": "code",
      "metadata": {
        "colab": {
          "base_uri": "https://localhost:8080/"
        },
        "id": "0i5ALG3VnNxH",
        "outputId": "3e1b5b33-ec7c-41f7-db2e-50269d8dc900"
      },
      "source": [
        "loan_count_of_missval_by_col = (loan_data.isnull().sum())\n",
        "loan_count_of_missval_by_col"
      ],
      "execution_count": 14,
      "outputs": [
        {
          "output_type": "execute_result",
          "data": {
            "text/plain": [
              "Unnamed: 0            0\n",
              "Loan_ID               0\n",
              "Gender               10\n",
              "Married               1\n",
              "Dependents            9\n",
              "Education             0\n",
              "Self_Employed        29\n",
              "ApplicantIncome       0\n",
              "CoapplicantIncome     0\n",
              "LoanAmount           16\n",
              "Loan_Amount_Term     13\n",
              "Credit_History       43\n",
              "Property_Area         0\n",
              "Loan_Status           0\n",
              "dtype: int64"
            ]
          },
          "metadata": {
            "tags": []
          },
          "execution_count": 14
        }
      ]
    },
    {
      "cell_type": "code",
      "metadata": {
        "id": "jlnoTy78DZ5w"
      },
      "source": [
        "loan_data1 = loan_data.dropna(subset=['LoanAmount', 'Loan_Amount_Term', 'Credit_History'])"
      ],
      "execution_count": 15,
      "outputs": []
    },
    {
      "cell_type": "code",
      "metadata": {
        "colab": {
          "base_uri": "https://localhost:8080/"
        },
        "id": "k5zh8AgaFGrA",
        "outputId": "53060dd4-45e5-4db4-fb95-85b3eb5d48ee"
      },
      "source": [
        "loan_data1.isnull().sum()"
      ],
      "execution_count": 16,
      "outputs": [
        {
          "output_type": "execute_result",
          "data": {
            "text/plain": [
              "Unnamed: 0            0\n",
              "Loan_ID               0\n",
              "Gender                9\n",
              "Married               1\n",
              "Dependents            8\n",
              "Education             0\n",
              "Self_Employed        22\n",
              "ApplicantIncome       0\n",
              "CoapplicantIncome     0\n",
              "LoanAmount            0\n",
              "Loan_Amount_Term      0\n",
              "Credit_History        0\n",
              "Property_Area         0\n",
              "Loan_Status           0\n",
              "dtype: int64"
            ]
          },
          "metadata": {
            "tags": []
          },
          "execution_count": 16
        }
      ]
    },
    {
      "cell_type": "code",
      "metadata": {
        "colab": {
          "base_uri": "https://localhost:8080/"
        },
        "id": "l5Danwpk9oK2",
        "outputId": "218fa950-2e70-4e43-e273-7341a15baa20"
      },
      "source": [
        "loan_data1['Gender'].fillna('Not Specified', inplace = True)\n",
        "loan_data1['Gender'].value_counts(normalize=True)*100"
      ],
      "execution_count": 17,
      "outputs": [
        {
          "output_type": "execute_result",
          "data": {
            "text/plain": [
              "Male             79.285714\n",
              "Female           18.571429\n",
              "Not Specified     2.142857\n",
              "Name: Gender, dtype: float64"
            ]
          },
          "metadata": {
            "tags": []
          },
          "execution_count": 17
        }
      ]
    },
    {
      "cell_type": "code",
      "metadata": {
        "colab": {
          "base_uri": "https://localhost:8080/"
        },
        "id": "hWWs7jkZ-gWI",
        "outputId": "ec2d8a63-2bb1-4ef0-ecc8-a5b962f4c53f"
      },
      "source": [
        "loan_data1['Married'].fillna('Not Specified', inplace = True)\n",
        "loan_data1['Married'].value_counts(normalize=True)*100"
      ],
      "execution_count": 18,
      "outputs": [
        {
          "output_type": "execute_result",
          "data": {
            "text/plain": [
              "Yes              65.000000\n",
              "No               34.761905\n",
              "Not Specified     0.238095\n",
              "Name: Married, dtype: float64"
            ]
          },
          "metadata": {
            "tags": []
          },
          "execution_count": 18
        }
      ]
    },
    {
      "cell_type": "code",
      "metadata": {
        "colab": {
          "base_uri": "https://localhost:8080/"
        },
        "id": "5xL3HJcz_ItY",
        "outputId": "09e8b0b0-e9c3-4f58-c059-b0535a359b57"
      },
      "source": [
        "loan_data1['Dependents'].fillna(loan_data1['Dependents'].mode()[0], inplace = True)\n",
        "loan_data1['Dependents'].value_counts(normalize=True)*100"
      ],
      "execution_count": 19,
      "outputs": [
        {
          "output_type": "execute_result",
          "data": {
            "text/plain": [
              "0     57.142857\n",
              "1     17.142857\n",
              "2     16.666667\n",
              "3+     9.047619\n",
              "Name: Dependents, dtype: float64"
            ]
          },
          "metadata": {
            "tags": []
          },
          "execution_count": 19
        }
      ]
    },
    {
      "cell_type": "code",
      "metadata": {
        "colab": {
          "base_uri": "https://localhost:8080/"
        },
        "id": "OWWhUSAVAHwl",
        "outputId": "7f87c3e7-a837-47fd-c9ea-185e257761f0"
      },
      "source": [
        "loan_data1['Self_Employed'].fillna('Not Specified', inplace = True)\n",
        "loan_data1['Self_Employed'].value_counts(normalize=True)*100"
      ],
      "execution_count": 20,
      "outputs": [
        {
          "output_type": "execute_result",
          "data": {
            "text/plain": [
              "No               81.666667\n",
              "Yes              13.095238\n",
              "Not Specified     5.238095\n",
              "Name: Self_Employed, dtype: float64"
            ]
          },
          "metadata": {
            "tags": []
          },
          "execution_count": 20
        }
      ]
    },
    {
      "cell_type": "code",
      "metadata": {
        "colab": {
          "base_uri": "https://localhost:8080/"
        },
        "id": "wVlXJ_eu_fFW",
        "outputId": "76d33256-0798-43c6-822c-a1eecf6ff66d"
      },
      "source": [
        "loan_data1.isnull().sum()"
      ],
      "execution_count": 21,
      "outputs": [
        {
          "output_type": "execute_result",
          "data": {
            "text/plain": [
              "Unnamed: 0           0\n",
              "Loan_ID              0\n",
              "Gender               0\n",
              "Married              0\n",
              "Dependents           0\n",
              "Education            0\n",
              "Self_Employed        0\n",
              "ApplicantIncome      0\n",
              "CoapplicantIncome    0\n",
              "LoanAmount           0\n",
              "Loan_Amount_Term     0\n",
              "Credit_History       0\n",
              "Property_Area        0\n",
              "Loan_Status          0\n",
              "dtype: int64"
            ]
          },
          "metadata": {
            "tags": []
          },
          "execution_count": 21
        }
      ]
    },
    {
      "cell_type": "code",
      "metadata": {
        "colab": {
          "base_uri": "https://localhost:8080/"
        },
        "id": "h17j8nrYFu-N",
        "outputId": "df434d04-c3ab-4d21-e2d1-3978dfc9c8d1"
      },
      "source": [
        "test_count_of_missval_by_col = (test_data.isnull().sum())\n",
        "test_count_of_missval_by_col"
      ],
      "execution_count": 22,
      "outputs": [
        {
          "output_type": "execute_result",
          "data": {
            "text/plain": [
              "Loan_ID              0\n",
              "Gender               3\n",
              "Married              2\n",
              "Dependents           6\n",
              "Education            0\n",
              "Self_Employed        3\n",
              "ApplicantIncome      0\n",
              "CoapplicantIncome    0\n",
              "LoanAmount           6\n",
              "Loan_Amount_Term     1\n",
              "Credit_History       7\n",
              "Property_Area        0\n",
              "dtype: int64"
            ]
          },
          "metadata": {
            "tags": []
          },
          "execution_count": 22
        }
      ]
    },
    {
      "cell_type": "code",
      "metadata": {
        "colab": {
          "base_uri": "https://localhost:8080/"
        },
        "id": "Vt29A62G-V2n",
        "outputId": "513307d7-d168-44a2-c675-db7fc2f7bfde"
      },
      "source": [
        "test_data['Gender'].fillna('Not Specified', inplace = True)\n",
        "test_data['Gender'].value_counts(normalize=True)*100"
      ],
      "execution_count": 23,
      "outputs": [
        {
          "output_type": "execute_result",
          "data": {
            "text/plain": [
              "Male             78.048780\n",
              "Female           19.512195\n",
              "Not Specified     2.439024\n",
              "Name: Gender, dtype: float64"
            ]
          },
          "metadata": {
            "tags": []
          },
          "execution_count": 23
        }
      ]
    },
    {
      "cell_type": "code",
      "metadata": {
        "colab": {
          "base_uri": "https://localhost:8080/"
        },
        "id": "0uXFKDrN-mA3",
        "outputId": "fcfb2638-41bc-4f45-89f8-f697ac7dd271"
      },
      "source": [
        "test_data['Married'].fillna('Not Specified', inplace = True)\n",
        "test_data['Married'].value_counts(normalize=True)*100"
      ],
      "execution_count": 24,
      "outputs": [
        {
          "output_type": "execute_result",
          "data": {
            "text/plain": [
              "Yes              60.162602\n",
              "No               38.211382\n",
              "Not Specified     1.626016\n",
              "Name: Married, dtype: float64"
            ]
          },
          "metadata": {
            "tags": []
          },
          "execution_count": 24
        }
      ]
    },
    {
      "cell_type": "code",
      "metadata": {
        "colab": {
          "base_uri": "https://localhost:8080/"
        },
        "id": "0SsPcRZqF3b-",
        "outputId": "5f5178ce-8d81-4924-c39c-94ad64724e38"
      },
      "source": [
        "test_data['Dependents'].fillna(test_data['Dependents'].mode()[0], inplace = True)\n",
        "test_data['Dependents'].value_counts(normalize=True)*100"
      ],
      "execution_count": 25,
      "outputs": [
        {
          "output_type": "execute_result",
          "data": {
            "text/plain": [
              "0     60.975610\n",
              "2     18.699187\n",
              "1     13.821138\n",
              "3+     6.504065\n",
              "Name: Dependents, dtype: float64"
            ]
          },
          "metadata": {
            "tags": []
          },
          "execution_count": 25
        }
      ]
    },
    {
      "cell_type": "code",
      "metadata": {
        "colab": {
          "base_uri": "https://localhost:8080/"
        },
        "id": "mm07AzutGQG1",
        "outputId": "7a2af5cd-65c7-47b9-802b-7cf30058b73d"
      },
      "source": [
        "test_data['Self_Employed'].fillna('Not Specified', inplace = True)\n",
        "test_data['Self_Employed'].value_counts(normalize=True)*100"
      ],
      "execution_count": 26,
      "outputs": [
        {
          "output_type": "execute_result",
          "data": {
            "text/plain": [
              "No               82.926829\n",
              "Yes              14.634146\n",
              "Not Specified     2.439024\n",
              "Name: Self_Employed, dtype: float64"
            ]
          },
          "metadata": {
            "tags": []
          },
          "execution_count": 26
        }
      ]
    },
    {
      "cell_type": "code",
      "metadata": {
        "colab": {
          "base_uri": "https://localhost:8080/"
        },
        "id": "CYbgRUQOGXco",
        "outputId": "fe0e4f14-f1b3-4dbf-c858-475ac30bcff1"
      },
      "source": [
        "test_data['LoanAmount'].fillna(test_data['LoanAmount'].mean(), inplace = True)\n",
        "test_data['LoanAmount'].value_counts(normalize=True)*100"
      ],
      "execution_count": 27,
      "outputs": [
        {
          "output_type": "execute_result",
          "data": {
            "text/plain": [
              "152.08547    4.878049\n",
              "125.00000    3.252033\n",
              "187.00000    3.252033\n",
              "110.00000    3.252033\n",
              "120.00000    2.439024\n",
              "               ...   \n",
              "65.00000     0.813008\n",
              "180.00000    0.813008\n",
              "496.00000    0.813008\n",
              "170.00000    0.813008\n",
              "81.00000     0.813008\n",
              "Name: LoanAmount, Length: 87, dtype: float64"
            ]
          },
          "metadata": {
            "tags": []
          },
          "execution_count": 27
        }
      ]
    },
    {
      "cell_type": "code",
      "metadata": {
        "colab": {
          "base_uri": "https://localhost:8080/"
        },
        "id": "okegeVAzLkiS",
        "outputId": "ce7421b7-27a0-45f9-fbf5-f434f8150d5f"
      },
      "source": [
        "test_data['Loan_Amount_Term'].fillna(test_data['Loan_Amount_Term'].mode()[0], inplace = True)\n",
        "test_data['Loan_Amount_Term'].value_counts(normalize=True)*100"
      ],
      "execution_count": 28,
      "outputs": [
        {
          "output_type": "execute_result",
          "data": {
            "text/plain": [
              "360.0    88.617886\n",
              "180.0     7.317073\n",
              "480.0     1.626016\n",
              "60.0      0.813008\n",
              "300.0     0.813008\n",
              "240.0     0.813008\n",
              "Name: Loan_Amount_Term, dtype: float64"
            ]
          },
          "metadata": {
            "tags": []
          },
          "execution_count": 28
        }
      ]
    },
    {
      "cell_type": "code",
      "metadata": {
        "colab": {
          "base_uri": "https://localhost:8080/"
        },
        "id": "wrNedtmFLlfQ",
        "outputId": "095e424d-aae0-4d95-e438-30023c93ebf8"
      },
      "source": [
        "test_data['Credit_History'].fillna(test_data['Credit_History'].mode()[0], inplace = True)\n",
        "test_data['Credit_History'].value_counts(normalize=True)*100"
      ],
      "execution_count": 29,
      "outputs": [
        {
          "output_type": "execute_result",
          "data": {
            "text/plain": [
              "1.0    82.926829\n",
              "0.0    17.073171\n",
              "Name: Credit_History, dtype: float64"
            ]
          },
          "metadata": {
            "tags": []
          },
          "execution_count": 29
        }
      ]
    },
    {
      "cell_type": "code",
      "metadata": {
        "colab": {
          "base_uri": "https://localhost:8080/"
        },
        "id": "ZxTD0v6sGKxh",
        "outputId": "d027c48f-39f9-4a6e-aa1f-c1f0668df75a"
      },
      "source": [
        "test_data.isnull().sum()"
      ],
      "execution_count": 30,
      "outputs": [
        {
          "output_type": "execute_result",
          "data": {
            "text/plain": [
              "Loan_ID              0\n",
              "Gender               0\n",
              "Married              0\n",
              "Dependents           0\n",
              "Education            0\n",
              "Self_Employed        0\n",
              "ApplicantIncome      0\n",
              "CoapplicantIncome    0\n",
              "LoanAmount           0\n",
              "Loan_Amount_Term     0\n",
              "Credit_History       0\n",
              "Property_Area        0\n",
              "dtype: int64"
            ]
          },
          "metadata": {
            "tags": []
          },
          "execution_count": 30
        }
      ]
    },
    {
      "cell_type": "code",
      "metadata": {
        "colab": {
          "base_uri": "https://localhost:8080/"
        },
        "id": "x6kvOKTKL0Ly",
        "outputId": "2ec5382a-84ab-43d0-f8ac-d2c64fb160cf"
      },
      "source": [
        "loan_data1.dtypes"
      ],
      "execution_count": 31,
      "outputs": [
        {
          "output_type": "execute_result",
          "data": {
            "text/plain": [
              "Unnamed: 0             int64\n",
              "Loan_ID               object\n",
              "Gender                object\n",
              "Married               object\n",
              "Dependents            object\n",
              "Education             object\n",
              "Self_Employed         object\n",
              "ApplicantIncome        int64\n",
              "CoapplicantIncome    float64\n",
              "LoanAmount           float64\n",
              "Loan_Amount_Term     float64\n",
              "Credit_History       float64\n",
              "Property_Area         object\n",
              "Loan_Status            int64\n",
              "dtype: object"
            ]
          },
          "metadata": {
            "tags": []
          },
          "execution_count": 31
        }
      ]
    },
    {
      "cell_type": "code",
      "metadata": {
        "colab": {
          "base_uri": "https://localhost:8080/",
          "height": 304
        },
        "id": "0ZsnCPLrMe5y",
        "outputId": "a6ddf6c6-8814-418f-af91-7ae60f8f0f37"
      },
      "source": [
        "# libraries for visualization\n",
        "from matplotlib import pyplot as plt\n",
        "plt.style.use('fivethirtyeight')\n",
        "import seaborn as sns\n",
        "#seeing the distribution of target variable\n",
        "sns.countplot(loan_data1['Loan_Status'])\n",
        "plt.show()"
      ],
      "execution_count": 32,
      "outputs": [
        {
          "output_type": "display_data",
          "data": {
            "image/png": "[encoded data removed]",
            "text/plain": [
              "<Figure size 432x288 with 1 Axes>"
            ]
          },
          "metadata": {
            "tags": []
          }
        }
      ]
    },
    {
      "cell_type": "code",
      "metadata": {
        "colab": {
          "base_uri": "https://localhost:8080/",
          "height": 241
        },
        "id": "pvWvHMjKqwpI",
        "outputId": "59173429-d639-4541-bba5-35b3c851bf65"
      },
      "source": [
        "# Drop irrelevant columns - Ticket and Name (may be passenger ID too - if not set it as index)\n",
        "del loan_data1['Unnamed: 0']\n",
        "del loan_data1['Loan_ID']\n",
        "\n",
        "loan_data1 = pd.get_dummies(loan_data1, columns=['Gender'])\n",
        "loan_data1 = pd.get_dummies(loan_data1, columns=['Married'])\n",
        "loan_data1 = pd.get_dummies(loan_data1, columns=['Dependents'])\n",
        "loan_data1 = pd.get_dummies(loan_data1, columns=['Education'])\n",
        "loan_data1 = pd.get_dummies(loan_data1, columns=['Self_Employed'])\n",
        "loan_data1 = pd.get_dummies(loan_data1, columns=['Property_Area'])\n",
        "\n",
        "loan_data1.head()"
      ],
      "execution_count": 33,
      "outputs": [
        {
          "output_type": "execute_result",
          "data": {
            "text/html": [
              "<div>\n",
              "<style scoped>\n",
              "    .dataframe tbody tr th:only-of-type {\n",
              "        vertical-align: middle;\n",
              "    }\n",
              "\n",
              "    .dataframe tbody tr th {\n",
              "        vertical-align: top;\n",
              "    }\n",
              "\n",
              "    .dataframe thead th {\n",
              "        text-align: right;\n",
              "    }\n",
              "</style>\n",
              "<table border=\"1\" class=\"dataframe\">\n",
              "  <thead>\n",
              "    <tr style=\"text-align: right;\">\n",
              "      <th></th>\n",
              "      <th>ApplicantIncome</th>\n",
              "      <th>CoapplicantIncome</th>\n",
              "      <th>LoanAmount</th>\n",
              "      <th>Loan_Amount_Term</th>\n",
              "      <th>Credit_History</th>\n",
              "      <th>Loan_Status</th>\n",
              "      <th>Gender_Female</th>\n",
              "      <th>Gender_Male</th>\n",
              "      <th>Gender_Not Specified</th>\n",
              "      <th>Married_No</th>\n",
              "      <th>Married_Not Specified</th>\n",
              "      <th>Married_Yes</th>\n",
              "      <th>Dependents_0</th>\n",
              "      <th>Dependents_1</th>\n",
              "      <th>Dependents_2</th>\n",
              "      <th>Dependents_3+</th>\n",
              "      <th>Education_Graduate</th>\n",
              "      <th>Education_Not Graduate</th>\n",
              "      <th>Self_Employed_No</th>\n",
              "      <th>Self_Employed_Not Specified</th>\n",
              "      <th>Self_Employed_Yes</th>\n",
              "      <th>Property_Area_Rural</th>\n",
              "      <th>Property_Area_Semiurban</th>\n",
              "      <th>Property_Area_Urban</th>\n",
              "    </tr>\n",
              "  </thead>\n",
              "  <tbody>\n",
              "    <tr>\n",
              "      <th>0</th>\n",
              "      <td>4547</td>\n",
              "      <td>0.0</td>\n",
              "      <td>115.0</td>\n",
              "      <td>360.0</td>\n",
              "      <td>1.0</td>\n",
              "      <td>1</td>\n",
              "      <td>1</td>\n",
              "      <td>0</td>\n",
              "      <td>0</td>\n",
              "      <td>1</td>\n",
              "      <td>0</td>\n",
              "      <td>0</td>\n",
              "      <td>1</td>\n",
              "      <td>0</td>\n",
              "      <td>0</td>\n",
              "      <td>0</td>\n",
              "      <td>1</td>\n",
              "      <td>0</td>\n",
              "      <td>1</td>\n",
              "      <td>0</td>\n",
              "      <td>0</td>\n",
              "      <td>0</td>\n",
              "      <td>1</td>\n",
              "      <td>0</td>\n",
              "    </tr>\n",
              "    <tr>\n",
              "      <th>1</th>\n",
              "      <td>5703</td>\n",
              "      <td>0.0</td>\n",
              "      <td>130.0</td>\n",
              "      <td>360.0</td>\n",
              "      <td>1.0</td>\n",
              "      <td>1</td>\n",
              "      <td>0</td>\n",
              "      <td>1</td>\n",
              "      <td>0</td>\n",
              "      <td>0</td>\n",
              "      <td>0</td>\n",
              "      <td>1</td>\n",
              "      <td>0</td>\n",
              "      <td>0</td>\n",
              "      <td>0</td>\n",
              "      <td>1</td>\n",
              "      <td>0</td>\n",
              "      <td>1</td>\n",
              "      <td>0</td>\n",
              "      <td>0</td>\n",
              "      <td>1</td>\n",
              "      <td>1</td>\n",
              "      <td>0</td>\n",
              "      <td>0</td>\n",
              "    </tr>\n",
              "    <tr>\n",
              "      <th>2</th>\n",
              "      <td>4333</td>\n",
              "      <td>2451.0</td>\n",
              "      <td>110.0</td>\n",
              "      <td>360.0</td>\n",
              "      <td>1.0</td>\n",
              "      <td>0</td>\n",
              "      <td>1</td>\n",
              "      <td>0</td>\n",
              "      <td>0</td>\n",
              "      <td>0</td>\n",
              "      <td>0</td>\n",
              "      <td>1</td>\n",
              "      <td>1</td>\n",
              "      <td>0</td>\n",
              "      <td>0</td>\n",
              "      <td>0</td>\n",
              "      <td>1</td>\n",
              "      <td>0</td>\n",
              "      <td>1</td>\n",
              "      <td>0</td>\n",
              "      <td>0</td>\n",
              "      <td>0</td>\n",
              "      <td>0</td>\n",
              "      <td>1</td>\n",
              "    </tr>\n",
              "    <tr>\n",
              "      <th>4</th>\n",
              "      <td>6700</td>\n",
              "      <td>1750.0</td>\n",
              "      <td>230.0</td>\n",
              "      <td>300.0</td>\n",
              "      <td>1.0</td>\n",
              "      <td>1</td>\n",
              "      <td>0</td>\n",
              "      <td>1</td>\n",
              "      <td>0</td>\n",
              "      <td>0</td>\n",
              "      <td>0</td>\n",
              "      <td>1</td>\n",
              "      <td>0</td>\n",
              "      <td>0</td>\n",
              "      <td>1</td>\n",
              "      <td>0</td>\n",
              "      <td>1</td>\n",
              "      <td>0</td>\n",
              "      <td>1</td>\n",
              "      <td>0</td>\n",
              "      <td>0</td>\n",
              "      <td>0</td>\n",
              "      <td>1</td>\n",
              "      <td>0</td>\n",
              "    </tr>\n",
              "    <tr>\n",
              "      <th>5</th>\n",
              "      <td>4344</td>\n",
              "      <td>736.0</td>\n",
              "      <td>87.0</td>\n",
              "      <td>360.0</td>\n",
              "      <td>1.0</td>\n",
              "      <td>0</td>\n",
              "      <td>0</td>\n",
              "      <td>1</td>\n",
              "      <td>0</td>\n",
              "      <td>0</td>\n",
              "      <td>0</td>\n",
              "      <td>1</td>\n",
              "      <td>1</td>\n",
              "      <td>0</td>\n",
              "      <td>0</td>\n",
              "      <td>0</td>\n",
              "      <td>0</td>\n",
              "      <td>1</td>\n",
              "      <td>0</td>\n",
              "      <td>0</td>\n",
              "      <td>1</td>\n",
              "      <td>0</td>\n",
              "      <td>1</td>\n",
              "      <td>0</td>\n",
              "    </tr>\n",
              "  </tbody>\n",
              "</table>\n",
              "</div>"
            ],
            "text/plain": [
              "   ApplicantIncome  ...  Property_Area_Urban\n",
              "0             4547  ...                    0\n",
              "1             5703  ...                    0\n",
              "2             4333  ...                    1\n",
              "4             6700  ...                    0\n",
              "5             4344  ...                    0\n",
              "\n",
              "[5 rows x 24 columns]"
            ]
          },
          "metadata": {
            "tags": []
          },
          "execution_count": 33
        }
      ]
    },
    {
      "cell_type": "code",
      "metadata": {
        "colab": {
          "base_uri": "https://localhost:8080/",
          "height": 241
        },
        "id": "JiTyk67l4UuJ",
        "outputId": "4477f56a-75b8-45b1-a73b-ac7796a964d6"
      },
      "source": [
        "# Drop irrelevant columns - Ticket and Name (may be passenger ID too - if not set it as index)\n",
        "del test_data['Loan_ID']\n",
        "\n",
        "test_data = pd.get_dummies(test_data, columns=['Gender'])\n",
        "test_data = pd.get_dummies(test_data, columns=['Married'])\n",
        "test_data = pd.get_dummies(test_data, columns=['Dependents'])\n",
        "test_data = pd.get_dummies(test_data, columns=['Education'])\n",
        "test_data = pd.get_dummies(test_data, columns=['Self_Employed'])\n",
        "test_data = pd.get_dummies(test_data, columns=['Property_Area'])\n",
        "\n",
        "test_data.head()"
      ],
      "execution_count": 34,
      "outputs": [
        {
          "output_type": "execute_result",
          "data": {
            "text/html": [
              "<div>\n",
              "<style scoped>\n",
              "    .dataframe tbody tr th:only-of-type {\n",
              "        vertical-align: middle;\n",
              "    }\n",
              "\n",
              "    .dataframe tbody tr th {\n",
              "        vertical-align: top;\n",
              "    }\n",
              "\n",
              "    .dataframe thead th {\n",
              "        text-align: right;\n",
              "    }\n",
              "</style>\n",
              "<table border=\"1\" class=\"dataframe\">\n",
              "  <thead>\n",
              "    <tr style=\"text-align: right;\">\n",
              "      <th></th>\n",
              "      <th>ApplicantIncome</th>\n",
              "      <th>CoapplicantIncome</th>\n",
              "      <th>LoanAmount</th>\n",
              "      <th>Loan_Amount_Term</th>\n",
              "      <th>Credit_History</th>\n",
              "      <th>Gender_Female</th>\n",
              "      <th>Gender_Male</th>\n",
              "      <th>Gender_Not Specified</th>\n",
              "      <th>Married_No</th>\n",
              "      <th>Married_Not Specified</th>\n",
              "      <th>Married_Yes</th>\n",
              "      <th>Dependents_0</th>\n",
              "      <th>Dependents_1</th>\n",
              "      <th>Dependents_2</th>\n",
              "      <th>Dependents_3+</th>\n",
              "      <th>Education_Graduate</th>\n",
              "      <th>Education_Not Graduate</th>\n",
              "      <th>Self_Employed_No</th>\n",
              "      <th>Self_Employed_Not Specified</th>\n",
              "      <th>Self_Employed_Yes</th>\n",
              "      <th>Property_Area_Rural</th>\n",
              "      <th>Property_Area_Semiurban</th>\n",
              "      <th>Property_Area_Urban</th>\n",
              "    </tr>\n",
              "  </thead>\n",
              "  <tbody>\n",
              "    <tr>\n",
              "      <th>0</th>\n",
              "      <td>3748</td>\n",
              "      <td>1668.0</td>\n",
              "      <td>110.0</td>\n",
              "      <td>360.0</td>\n",
              "      <td>1.0</td>\n",
              "      <td>0</td>\n",
              "      <td>1</td>\n",
              "      <td>0</td>\n",
              "      <td>1</td>\n",
              "      <td>0</td>\n",
              "      <td>0</td>\n",
              "      <td>1</td>\n",
              "      <td>0</td>\n",
              "      <td>0</td>\n",
              "      <td>0</td>\n",
              "      <td>0</td>\n",
              "      <td>1</td>\n",
              "      <td>1</td>\n",
              "      <td>0</td>\n",
              "      <td>0</td>\n",
              "      <td>0</td>\n",
              "      <td>1</td>\n",
              "      <td>0</td>\n",
              "    </tr>\n",
              "    <tr>\n",
              "      <th>1</th>\n",
              "      <td>4000</td>\n",
              "      <td>7750.0</td>\n",
              "      <td>290.0</td>\n",
              "      <td>360.0</td>\n",
              "      <td>1.0</td>\n",
              "      <td>0</td>\n",
              "      <td>1</td>\n",
              "      <td>0</td>\n",
              "      <td>0</td>\n",
              "      <td>0</td>\n",
              "      <td>1</td>\n",
              "      <td>0</td>\n",
              "      <td>0</td>\n",
              "      <td>0</td>\n",
              "      <td>1</td>\n",
              "      <td>1</td>\n",
              "      <td>0</td>\n",
              "      <td>1</td>\n",
              "      <td>0</td>\n",
              "      <td>0</td>\n",
              "      <td>0</td>\n",
              "      <td>1</td>\n",
              "      <td>0</td>\n",
              "    </tr>\n",
              "    <tr>\n",
              "      <th>2</th>\n",
              "      <td>2625</td>\n",
              "      <td>6250.0</td>\n",
              "      <td>187.0</td>\n",
              "      <td>360.0</td>\n",
              "      <td>1.0</td>\n",
              "      <td>0</td>\n",
              "      <td>1</td>\n",
              "      <td>0</td>\n",
              "      <td>0</td>\n",
              "      <td>0</td>\n",
              "      <td>1</td>\n",
              "      <td>1</td>\n",
              "      <td>0</td>\n",
              "      <td>0</td>\n",
              "      <td>0</td>\n",
              "      <td>1</td>\n",
              "      <td>0</td>\n",
              "      <td>1</td>\n",
              "      <td>0</td>\n",
              "      <td>0</td>\n",
              "      <td>1</td>\n",
              "      <td>0</td>\n",
              "      <td>0</td>\n",
              "    </tr>\n",
              "    <tr>\n",
              "      <th>3</th>\n",
              "      <td>3902</td>\n",
              "      <td>1666.0</td>\n",
              "      <td>109.0</td>\n",
              "      <td>360.0</td>\n",
              "      <td>1.0</td>\n",
              "      <td>0</td>\n",
              "      <td>1</td>\n",
              "      <td>0</td>\n",
              "      <td>1</td>\n",
              "      <td>0</td>\n",
              "      <td>0</td>\n",
              "      <td>1</td>\n",
              "      <td>0</td>\n",
              "      <td>0</td>\n",
              "      <td>0</td>\n",
              "      <td>0</td>\n",
              "      <td>1</td>\n",
              "      <td>1</td>\n",
              "      <td>0</td>\n",
              "      <td>0</td>\n",
              "      <td>1</td>\n",
              "      <td>0</td>\n",
              "      <td>0</td>\n",
              "    </tr>\n",
              "    <tr>\n",
              "      <th>4</th>\n",
              "      <td>6096</td>\n",
              "      <td>0.0</td>\n",
              "      <td>218.0</td>\n",
              "      <td>360.0</td>\n",
              "      <td>0.0</td>\n",
              "      <td>0</td>\n",
              "      <td>1</td>\n",
              "      <td>0</td>\n",
              "      <td>0</td>\n",
              "      <td>0</td>\n",
              "      <td>1</td>\n",
              "      <td>1</td>\n",
              "      <td>0</td>\n",
              "      <td>0</td>\n",
              "      <td>0</td>\n",
              "      <td>0</td>\n",
              "      <td>1</td>\n",
              "      <td>1</td>\n",
              "      <td>0</td>\n",
              "      <td>0</td>\n",
              "      <td>1</td>\n",
              "      <td>0</td>\n",
              "      <td>0</td>\n",
              "    </tr>\n",
              "  </tbody>\n",
              "</table>\n",
              "</div>"
            ],
            "text/plain": [
              "   ApplicantIncome  ...  Property_Area_Urban\n",
              "0             3748  ...                    0\n",
              "1             4000  ...                    0\n",
              "2             2625  ...                    0\n",
              "3             3902  ...                    0\n",
              "4             6096  ...                    0\n",
              "\n",
              "[5 rows x 23 columns]"
            ]
          },
          "metadata": {
            "tags": []
          },
          "execution_count": 34
        }
      ]
    },
    {
      "cell_type": "code",
      "metadata": {
        "id": "Ow6Qtw1DxC6i"
      },
      "source": [
        "X = loan_data1.drop('Loan_Status', axis = 1)              # Input Variables/features\n",
        "y = loan_data1.Loan_Status                                # output variables/features"
      ],
      "execution_count": 35,
      "outputs": []
    },
    {
      "cell_type": "code",
      "metadata": {
        "id": "tYpqPNn-Pqa_",
        "colab": {
          "base_uri": "https://localhost:8080/"
        },
        "outputId": "6446fd05-d320-4b0b-b459-1a035aaf591b"
      },
      "source": [
        "from sklearn.model_selection import train_test_split \n",
        "\n",
        "X_train, X_test, y_train, y_test = train_test_split(X, y, test_size=0.25, random_state=1)\n",
        "X_train.shape, X_test.shape"
      ],
      "execution_count": 36,
      "outputs": [
        {
          "output_type": "execute_result",
          "data": {
            "text/plain": [
              "((315, 23), (105, 23))"
            ]
          },
          "metadata": {
            "tags": []
          },
          "execution_count": 36
        }
      ]
    },
    {
      "cell_type": "markdown",
      "metadata": {
        "id": "8gYVTw9qR5BR"
      },
      "source": [
        "## Build a Logistic Regression Model on train set"
      ]
    },
    {
      "cell_type": "code",
      "metadata": {
        "colab": {
          "base_uri": "https://localhost:8080/"
        },
        "id": "rNSMDGoxSS4L",
        "outputId": "23f2290d-7b93-4ec9-c8e9-1291db6d6059"
      },
      "source": [
        "lr = LogisticRegression()\n",
        "lr.fit(X_train,y_train)"
      ],
      "execution_count": 37,
      "outputs": [
        {
          "output_type": "execute_result",
          "data": {
            "text/plain": [
              "LogisticRegression()"
            ]
          },
          "metadata": {
            "tags": []
          },
          "execution_count": 37
        }
      ]
    },
    {
      "cell_type": "code",
      "metadata": {
        "colab": {
          "base_uri": "https://localhost:8080/"
        },
        "id": "smN-bokgNqT8",
        "outputId": "095e846a-1bba-446e-b89c-3b030b65e091"
      },
      "source": [
        "print(\"Training sub dataset, F1 score: \", f1_score(y_train, lr.predict(X_train)))\n",
        "print(\"Test sub dataset, F1 score: \", f1_score(y_test, lr.predict(X_test)))"
      ],
      "execution_count": 38,
      "outputs": [
        {
          "output_type": "stream",
          "text": [
            "Training sub dataset, F1 score:  0.8839103869653767\n",
            "Test sub dataset, F1 score:  0.8363636363636364\n"
          ],
          "name": "stdout"
        }
      ]
    },
    {
      "cell_type": "code",
      "metadata": {
        "colab": {
          "base_uri": "https://localhost:8080/",
          "height": 34
        },
        "id": "9_WUqohvOMB5",
        "outputId": "3fb68bf7-7312-40e2-d78b-d5adacdb9c2e"
      },
      "source": [
        "predictions_lr = lr.predict(test_data)\n",
        "# To create Dataframe of predicted value with particular respective index\n",
        "res = pd.DataFrame(predictions_lr) #preditcions are nothing but the final predictions of your model on input features of your new unseen test data\n",
        "res.index = test_data.index # its important for comparison. Here \"test_data\" is your new test dataset\n",
        "res.columns = [\"prediction\"]\n",
        "\n",
        "from google.colab import files\n",
        "res.to_csv('Assignment3_prediction_lr.csv')         \n",
        "files.download('Assignment3_prediction_lr.csv')"
      ],
      "execution_count": 39,
      "outputs": [
        {
          "output_type": "display_data",
          "data": {
            "application/javascript": [
              "\n",
              "    async function download(id, filename, size) {\n",
              "      if (!google.colab.kernel.accessAllowed) {\n",
              "        return;\n",
              "      }\n",
              "      const div = document.createElement('div');\n",
              "      const label = document.createElement('label');\n",
              "      label.textContent = `Downloading \"${filename}\": `;\n",
              "      div.appendChild(label);\n",
              "      const progress = document.createElement('progress');\n",
              "      progress.max = size;\n",
              "      div.appendChild(progress);\n",
              "      document.body.appendChild(div);\n",
              "\n",
              "      const buffers = [];\n",
              "      let downloaded = 0;\n",
              "\n",
              "      const channel = await google.colab.kernel.comms.open(id);\n",
              "      // Send a message to notify the kernel that we're ready.\n",
              "      channel.send({})\n",
              "\n",
              "      for await (const message of channel.messages) {\n",
              "        // Send a message to notify the kernel that we're ready.\n",
              "        channel.send({})\n",
              "        if (message.buffers) {\n",
              "          for (const buffer of message.buffers) {\n",
              "            buffers.push(buffer);\n",
              "            downloaded += buffer.byteLength;\n",
              "            progress.value = downloaded;\n",
              "          }\n",
              "        }\n",
              "      }\n",
              "      const blob = new Blob(buffers, {type: 'application/binary'});\n",
              "      const a = document.createElement('a');\n",
              "      a.href = window.URL.createObjectURL(blob);\n",
              "      a.download = filename;\n",
              "      div.appendChild(a);\n",
              "      a.click();\n",
              "      div.remove();\n",
              "    }\n",
              "  "
            ],
            "text/plain": [
              "<IPython.core.display.Javascript object>"
            ]
          },
          "metadata": {
            "tags": []
          }
        },
        {
          "output_type": "display_data",
          "data": {
            "application/javascript": [
              "download(\"download_6ee0ffbf-fc76-4ac3-9309-c2d68f15a43a\", \"Assignment3_prediction_lr.csv\", 640)"
            ],
            "text/plain": [
              "<IPython.core.display.Javascript object>"
            ]
          },
          "metadata": {
            "tags": []
          }
        }
      ]
    },
    {
      "cell_type": "code",
      "metadata": {
        "id": "ARW2DAsnO_p0"
      },
      "source": [
        "from sklearn.model_selection import GridSearchCV\n",
        "\n",
        "# Create the parameter grid based on the results of random search \n",
        "parameters_lr = {\n",
        "     'penalty': ['l1', 'l2'],\n",
        "    'C': np.logspace(-4, 4, 20),\n",
        "    'solver': ['liblinear']}\n",
        "\n",
        "lr1 = LogisticRegression(random_state = 1)\n",
        "\n",
        "# Grid search cv\n",
        "grid_search_lr  = GridSearchCV(estimator = lr1, param_grid = parameters_lr, \n",
        "                          cv = 5, n_jobs = -1, verbose = 1, scoring='f1')"
      ],
      "execution_count": 40,
      "outputs": []
    },
    {
      "cell_type": "code",
      "metadata": {
        "colab": {
          "base_uri": "https://localhost:8080/"
        },
        "id": "Nh0tdBfDPGyi",
        "outputId": "369e14c5-db1f-4fb3-bdcc-a57392a4a36f"
      },
      "source": [
        "grid_search_lr.fit(X_train, y_train)\n",
        "grid_search_lr.best_params_"
      ],
      "execution_count": 41,
      "outputs": [
        {
          "output_type": "stream",
          "text": [
            "Fitting 5 folds for each of 40 candidates, totalling 200 fits\n"
          ],
          "name": "stdout"
        },
        {
          "output_type": "stream",
          "text": [
            "[Parallel(n_jobs=-1)]: Using backend LokyBackend with 2 concurrent workers.\n",
            "[Parallel(n_jobs=-1)]: Done 165 tasks      | elapsed:    3.0s\n",
            "[Parallel(n_jobs=-1)]: Done 200 out of 200 | elapsed:    3.2s finished\n"
          ],
          "name": "stderr"
        },
        {
          "output_type": "execute_result",
          "data": {
            "text/plain": [
              "{'C': 0.08858667904100823, 'penalty': 'l1', 'solver': 'liblinear'}"
            ]
          },
          "metadata": {
            "tags": []
          },
          "execution_count": 41
        }
      ]
    },
    {
      "cell_type": "code",
      "metadata": {
        "colab": {
          "base_uri": "https://localhost:8080/"
        },
        "id": "hIRr1z2YPMvv",
        "outputId": "2fc24772-0684-4c2f-f6fc-88044753c51e"
      },
      "source": [
        "print(\"Training sub dataset, F1 score: \", f1_score(y_train, grid_search_lr.predict(X_train)))\n",
        "print(\"Test sub dataset, F1 score: \", f1_score(y_test, grid_search_lr.predict(X_test)))"
      ],
      "execution_count": 42,
      "outputs": [
        {
          "output_type": "stream",
          "text": [
            "Training sub dataset, F1 score:  0.8911290322580645\n",
            "Test sub dataset, F1 score:  0.8848484848484848\n"
          ],
          "name": "stdout"
        }
      ]
    },
    {
      "cell_type": "code",
      "metadata": {
        "colab": {
          "base_uri": "https://localhost:8080/",
          "height": 34
        },
        "id": "DfThjisXPSSx",
        "outputId": "4e3460d5-1319-4221-edab-e8cc2dcc87dd"
      },
      "source": [
        "predictions_lr1 = grid_search_lr.predict(test_data)\n",
        "# To create Dataframe of predicted value with particular respective index\n",
        "res = pd.DataFrame(predictions_lr1) #preditcions are nothing but the final predictions of your model on input features of your new unseen test data\n",
        "res.index = test_data.index # its important for comparison. Here \"test_data\" is your new test dataset\n",
        "res.columns = [\"prediction\"]\n",
        "\n",
        "from google.colab import files\n",
        "res.to_csv('Assignment3_prediction_lr_GridSearch.csv')         \n",
        "files.download('Assignment3_prediction_lr_GridSearch.csv')"
      ],
      "execution_count": 43,
      "outputs": [
        {
          "output_type": "display_data",
          "data": {
            "application/javascript": [
              "\n",
              "    async function download(id, filename, size) {\n",
              "      if (!google.colab.kernel.accessAllowed) {\n",
              "        return;\n",
              "      }\n",
              "      const div = document.createElement('div');\n",
              "      const label = document.createElement('label');\n",
              "      label.textContent = `Downloading \"${filename}\": `;\n",
              "      div.appendChild(label);\n",
              "      const progress = document.createElement('progress');\n",
              "      progress.max = size;\n",
              "      div.appendChild(progress);\n",
              "      document.body.appendChild(div);\n",
              "\n",
              "      const buffers = [];\n",
              "      let downloaded = 0;\n",
              "\n",
              "      const channel = await google.colab.kernel.comms.open(id);\n",
              "      // Send a message to notify the kernel that we're ready.\n",
              "      channel.send({})\n",
              "\n",
              "      for await (const message of channel.messages) {\n",
              "        // Send a message to notify the kernel that we're ready.\n",
              "        channel.send({})\n",
              "        if (message.buffers) {\n",
              "          for (const buffer of message.buffers) {\n",
              "            buffers.push(buffer);\n",
              "            downloaded += buffer.byteLength;\n",
              "            progress.value = downloaded;\n",
              "          }\n",
              "        }\n",
              "      }\n",
              "      const blob = new Blob(buffers, {type: 'application/binary'});\n",
              "      const a = document.createElement('a');\n",
              "      a.href = window.URL.createObjectURL(blob);\n",
              "      a.download = filename;\n",
              "      div.appendChild(a);\n",
              "      a.click();\n",
              "      div.remove();\n",
              "    }\n",
              "  "
            ],
            "text/plain": [
              "<IPython.core.display.Javascript object>"
            ]
          },
          "metadata": {
            "tags": []
          }
        },
        {
          "output_type": "display_data",
          "data": {
            "application/javascript": [
              "download(\"download_e8e0bee2-750f-4538-aafc-76145c208f22\", \"Assignment3_prediction_lr_GridSearch.csv\", 640)"
            ],
            "text/plain": [
              "<IPython.core.display.Javascript object>"
            ]
          },
          "metadata": {
            "tags": []
          }
        }
      ]
    },
    {
      "cell_type": "markdown",
      "metadata": {
        "id": "PDzvfC4rQOAg"
      },
      "source": [
        "## Build a Random Forest Model on train set\n"
      ]
    },
    {
      "cell_type": "code",
      "metadata": {
        "colab": {
          "base_uri": "https://localhost:8080/"
        },
        "id": "Ne41eknDQQ9b",
        "outputId": "6322ab0d-34d2-42b2-8e26-f3f212a7a196"
      },
      "source": [
        "from sklearn.feature_selection import SelectFromModel\n",
        "from sklearn.metrics import accuracy_score, f1_score\n",
        "from sklearn.ensemble import RandomForestClassifier\n",
        "rf = RandomForestClassifier(random_state=1, n_estimators=1000, max_depth=5)\n",
        " \n",
        "rf.fit(X_train, y_train)"
      ],
      "execution_count": 44,
      "outputs": [
        {
          "output_type": "execute_result",
          "data": {
            "text/plain": [
              "RandomForestClassifier(max_depth=5, n_estimators=1000, random_state=1)"
            ]
          },
          "metadata": {
            "tags": []
          },
          "execution_count": 44
        }
      ]
    },
    {
      "cell_type": "code",
      "metadata": {
        "colab": {
          "base_uri": "https://localhost:8080/"
        },
        "id": "bwac0VbEQWeU",
        "outputId": "d159da49-1548-44cd-9799-eb733ce12e4e"
      },
      "source": [
        "print(\"Training sub dataset, F1 score: \", f1_score(y_train, rf.predict(X_train)))\n",
        "print(\"Test sub dataset, F1 score: \", f1_score(y_test, rf.predict(X_test)))"
      ],
      "execution_count": 45,
      "outputs": [
        {
          "output_type": "stream",
          "text": [
            "Training sub dataset, F1 score:  0.901010101010101\n",
            "Test sub dataset, F1 score:  0.8834355828220859\n"
          ],
          "name": "stdout"
        }
      ]
    },
    {
      "cell_type": "code",
      "metadata": {
        "colab": {
          "base_uri": "https://localhost:8080/",
          "height": 34
        },
        "id": "aMepAEznQa5r",
        "outputId": "c1308326-af96-47d8-f226-bc353b1f45fc"
      },
      "source": [
        "predictions_rf1 = rf.predict(test_data)\n",
        "# To create Dataframe of predicted value with particular respective index\n",
        "res = pd.DataFrame(predictions_rf1) #preditcions are nothing but the final predictions of your model on input features of your new unseen test data\n",
        "res.index = test_data.index # its important for comparison. Here \"test_data\" is your new test dataset\n",
        "res.columns = [\"prediction\"]\n",
        "\n",
        "from google.colab import files\n",
        "res.to_csv('Assignment3_prediction_rf.csv')         \n",
        "files.download('Assignment3_prediction_rf.csv')"
      ],
      "execution_count": 46,
      "outputs": [
        {
          "output_type": "display_data",
          "data": {
            "application/javascript": [
              "\n",
              "    async function download(id, filename, size) {\n",
              "      if (!google.colab.kernel.accessAllowed) {\n",
              "        return;\n",
              "      }\n",
              "      const div = document.createElement('div');\n",
              "      const label = document.createElement('label');\n",
              "      label.textContent = `Downloading \"${filename}\": `;\n",
              "      div.appendChild(label);\n",
              "      const progress = document.createElement('progress');\n",
              "      progress.max = size;\n",
              "      div.appendChild(progress);\n",
              "      document.body.appendChild(div);\n",
              "\n",
              "      const buffers = [];\n",
              "      let downloaded = 0;\n",
              "\n",
              "      const channel = await google.colab.kernel.comms.open(id);\n",
              "      // Send a message to notify the kernel that we're ready.\n",
              "      channel.send({})\n",
              "\n",
              "      for await (const message of channel.messages) {\n",
              "        // Send a message to notify the kernel that we're ready.\n",
              "        channel.send({})\n",
              "        if (message.buffers) {\n",
              "          for (const buffer of message.buffers) {\n",
              "            buffers.push(buffer);\n",
              "            downloaded += buffer.byteLength;\n",
              "            progress.value = downloaded;\n",
              "          }\n",
              "        }\n",
              "      }\n",
              "      const blob = new Blob(buffers, {type: 'application/binary'});\n",
              "      const a = document.createElement('a');\n",
              "      a.href = window.URL.createObjectURL(blob);\n",
              "      a.download = filename;\n",
              "      div.appendChild(a);\n",
              "      a.click();\n",
              "      div.remove();\n",
              "    }\n",
              "  "
            ],
            "text/plain": [
              "<IPython.core.display.Javascript object>"
            ]
          },
          "metadata": {
            "tags": []
          }
        },
        {
          "output_type": "display_data",
          "data": {
            "application/javascript": [
              "download(\"download_ac78b665-330d-49ed-8ec4-ee4fa9bd9888\", \"Assignment3_prediction_rf.csv\", 640)"
            ],
            "text/plain": [
              "<IPython.core.display.Javascript object>"
            ]
          },
          "metadata": {
            "tags": []
          }
        }
      ]
    },
    {
      "cell_type": "code",
      "metadata": {
        "id": "O_QxNKbjQtxj"
      },
      "source": [
        "parameters_rf = {\n",
        "'bootstrap': [True],\n",
        "'max_depth': [10, 20],\n",
        "'min_samples_leaf': [3, 4],\n",
        "'min_samples_split': [4, 6],\n",
        "'n_estimators': [100, 200]}\n",
        "rf2 = RandomForestClassifier(random_state = 1)\n",
        "\n",
        "# Grid search cv\n",
        "grid_search_rf  = GridSearchCV(estimator = rf2, param_grid = parameters_rf, \n",
        "                          cv = 5, n_jobs = -1, verbose = 1, scoring='f1')"
      ],
      "execution_count": 47,
      "outputs": []
    },
    {
      "cell_type": "code",
      "metadata": {
        "colab": {
          "base_uri": "https://localhost:8080/"
        },
        "id": "_X0IA4oiQxhI",
        "outputId": "a79b9175-85b7-42ed-a03a-bf6f6338a7c0"
      },
      "source": [
        "grid_search_rf.fit(X_train, y_train)\n",
        "grid_search_rf.best_params_"
      ],
      "execution_count": 48,
      "outputs": [
        {
          "output_type": "stream",
          "text": [
            "Fitting 5 folds for each of 16 candidates, totalling 80 fits\n"
          ],
          "name": "stdout"
        },
        {
          "output_type": "stream",
          "text": [
            "[Parallel(n_jobs=-1)]: Using backend LokyBackend with 2 concurrent workers.\n",
            "[Parallel(n_jobs=-1)]: Done  46 tasks      | elapsed:   10.7s\n",
            "[Parallel(n_jobs=-1)]: Done  80 out of  80 | elapsed:   17.7s finished\n"
          ],
          "name": "stderr"
        },
        {
          "output_type": "execute_result",
          "data": {
            "text/plain": [
              "{'bootstrap': True,\n",
              " 'max_depth': 20,\n",
              " 'min_samples_leaf': 3,\n",
              " 'min_samples_split': 4,\n",
              " 'n_estimators': 200}"
            ]
          },
          "metadata": {
            "tags": []
          },
          "execution_count": 48
        }
      ]
    },
    {
      "cell_type": "code",
      "metadata": {
        "colab": {
          "base_uri": "https://localhost:8080/"
        },
        "id": "gsO1wEzdQ03F",
        "outputId": "c31e6bb0-d28e-4d8e-b6cb-9ce8409226b3"
      },
      "source": [
        "print(\"Training sub dataset, F1 score: \", f1_score(y_train, grid_search_rf.predict(X_train)))\n",
        "print(\"Test sub dataset, F1 score: \", f1_score(y_test, grid_search_rf.predict(X_test)))"
      ],
      "execution_count": 49,
      "outputs": [
        {
          "output_type": "stream",
          "text": [
            "Training sub dataset, F1 score:  0.9263157894736842\n",
            "Test sub dataset, F1 score:  0.8834355828220859\n"
          ],
          "name": "stdout"
        }
      ]
    },
    {
      "cell_type": "code",
      "metadata": {
        "colab": {
          "base_uri": "https://localhost:8080/",
          "height": 34
        },
        "id": "T-mxusQcQ6Tq",
        "outputId": "cc73f628-a14d-4cf2-828e-8711e87ccab9"
      },
      "source": [
        "predictions_rf2 = grid_search_rf.predict(test_data)\n",
        "# To create Dataframe of predicted value with particular respective index\n",
        "res = pd.DataFrame(predictions_rf2) #preditcions are nothing but the final predictions of your model on input features of your new unseen test data\n",
        "res.index = test_data.index # its important for comparison. Here \"test_data\" is your new test dataset\n",
        "res.columns = [\"prediction\"]\n",
        "\n",
        "from google.colab import files\n",
        "res.to_csv('Assignment3_prediction_rf_GridSearch.csv')         \n",
        "files.download('Assignment3_prediction_rf_GridSearch.csv')"
      ],
      "execution_count": 50,
      "outputs": [
        {
          "output_type": "display_data",
          "data": {
            "application/javascript": [
              "\n",
              "    async function download(id, filename, size) {\n",
              "      if (!google.colab.kernel.accessAllowed) {\n",
              "        return;\n",
              "      }\n",
              "      const div = document.createElement('div');\n",
              "      const label = document.createElement('label');\n",
              "      label.textContent = `Downloading \"${filename}\": `;\n",
              "      div.appendChild(label);\n",
              "      const progress = document.createElement('progress');\n",
              "      progress.max = size;\n",
              "      div.appendChild(progress);\n",
              "      document.body.appendChild(div);\n",
              "\n",
              "      const buffers = [];\n",
              "      let downloaded = 0;\n",
              "\n",
              "      const channel = await google.colab.kernel.comms.open(id);\n",
              "      // Send a message to notify the kernel that we're ready.\n",
              "      channel.send({})\n",
              "\n",
              "      for await (const message of channel.messages) {\n",
              "        // Send a message to notify the kernel that we're ready.\n",
              "        channel.send({})\n",
              "        if (message.buffers) {\n",
              "          for (const buffer of message.buffers) {\n",
              "            buffers.push(buffer);\n",
              "            downloaded += buffer.byteLength;\n",
              "            progress.value = downloaded;\n",
              "          }\n",
              "        }\n",
              "      }\n",
              "      const blob = new Blob(buffers, {type: 'application/binary'});\n",
              "      const a = document.createElement('a');\n",
              "      a.href = window.URL.createObjectURL(blob);\n",
              "      a.download = filename;\n",
              "      div.appendChild(a);\n",
              "      a.click();\n",
              "      div.remove();\n",
              "    }\n",
              "  "
            ],
            "text/plain": [
              "<IPython.core.display.Javascript object>"
            ]
          },
          "metadata": {
            "tags": []
          }
        },
        {
          "output_type": "display_data",
          "data": {
            "application/javascript": [
              "download(\"download_77618195-2db0-4028-b3b9-7e93f863c9c1\", \"Assignment3_prediction_rf_GridSearch.csv\", 640)"
            ],
            "text/plain": [
              "<IPython.core.display.Javascript object>"
            ]
          },
          "metadata": {
            "tags": []
          }
        }
      ]
    },
    {
      "cell_type": "markdown",
      "metadata": {
        "id": "IktCFpnZRMRx"
      },
      "source": [
        "## Build a Decision Tree Model on train set"
      ]
    },
    {
      "cell_type": "code",
      "metadata": {
        "colab": {
          "base_uri": "https://localhost:8080/"
        },
        "id": "h2ypfe1CRPug",
        "outputId": "8f462bce-ec7b-415f-b92e-e7ca1a96c8c9"
      },
      "source": [
        "from sklearn.tree import DecisionTreeClassifier\n",
        "\n",
        "dt = DecisionTreeClassifier(random_state = 1, max_depth= 10, min_samples_leaf= 2, min_samples_split= 3, max_leaf_nodes=3)\n",
        "dt.fit(X_train, y_train)"
      ],
      "execution_count": 51,
      "outputs": [
        {
          "output_type": "execute_result",
          "data": {
            "text/plain": [
              "DecisionTreeClassifier(max_depth=10, max_leaf_nodes=3, min_samples_leaf=2,\n",
              "                       min_samples_split=3, random_state=1)"
            ]
          },
          "metadata": {
            "tags": []
          },
          "execution_count": 51
        }
      ]
    },
    {
      "cell_type": "code",
      "metadata": {
        "colab": {
          "base_uri": "https://localhost:8080/"
        },
        "id": "htF3LQirRTN5",
        "outputId": "bd8ed171-b6b5-40af-f786-9bc99862fd31"
      },
      "source": [
        "print(\"Training sub dataset, F1 score: \", f1_score(y_train, dt.predict(X_train)))\n",
        "print(\"Test sub dataset, F1 score: \", f1_score(y_test, dt.predict(X_test)))"
      ],
      "execution_count": 52,
      "outputs": [
        {
          "output_type": "stream",
          "text": [
            "Training sub dataset, F1 score:  0.8870967741935485\n",
            "Test sub dataset, F1 score:  0.8902439024390244\n"
          ],
          "name": "stdout"
        }
      ]
    },
    {
      "cell_type": "code",
      "metadata": {
        "colab": {
          "base_uri": "https://localhost:8080/",
          "height": 34
        },
        "id": "-FwLZQXyRXey",
        "outputId": "9ea1eec0-1923-42f3-9704-cd952c2f9d36"
      },
      "source": [
        "predictions_dt1 = dt.predict(test_data)\n",
        "# To create Dataframe of predicted value with particular respective index\n",
        "res = pd.DataFrame(predictions_dt1) #preditcions are nothing but the final predictions of your model on input features of your new unseen test data\n",
        "res.index = test_data.index # its important for comparison. Here \"test_data\" is your new test dataset\n",
        "res.columns = [\"prediction\"]\n",
        "\n",
        "from google.colab import files\n",
        "res.to_csv('Assignment3_prediction_dt.csv')         \n",
        "files.download('Assignment3_prediction_dt.csv')"
      ],
      "execution_count": 53,
      "outputs": [
        {
          "output_type": "display_data",
          "data": {
            "application/javascript": [
              "\n",
              "    async function download(id, filename, size) {\n",
              "      if (!google.colab.kernel.accessAllowed) {\n",
              "        return;\n",
              "      }\n",
              "      const div = document.createElement('div');\n",
              "      const label = document.createElement('label');\n",
              "      label.textContent = `Downloading \"${filename}\": `;\n",
              "      div.appendChild(label);\n",
              "      const progress = document.createElement('progress');\n",
              "      progress.max = size;\n",
              "      div.appendChild(progress);\n",
              "      document.body.appendChild(div);\n",
              "\n",
              "      const buffers = [];\n",
              "      let downloaded = 0;\n",
              "\n",
              "      const channel = await google.colab.kernel.comms.open(id);\n",
              "      // Send a message to notify the kernel that we're ready.\n",
              "      channel.send({})\n",
              "\n",
              "      for await (const message of channel.messages) {\n",
              "        // Send a message to notify the kernel that we're ready.\n",
              "        channel.send({})\n",
              "        if (message.buffers) {\n",
              "          for (const buffer of message.buffers) {\n",
              "            buffers.push(buffer);\n",
              "            downloaded += buffer.byteLength;\n",
              "            progress.value = downloaded;\n",
              "          }\n",
              "        }\n",
              "      }\n",
              "      const blob = new Blob(buffers, {type: 'application/binary'});\n",
              "      const a = document.createElement('a');\n",
              "      a.href = window.URL.createObjectURL(blob);\n",
              "      a.download = filename;\n",
              "      div.appendChild(a);\n",
              "      a.click();\n",
              "      div.remove();\n",
              "    }\n",
              "  "
            ],
            "text/plain": [
              "<IPython.core.display.Javascript object>"
            ]
          },
          "metadata": {
            "tags": []
          }
        },
        {
          "output_type": "display_data",
          "data": {
            "application/javascript": [
              "download(\"download_238ade70-5674-471d-a906-ae07b94144ac\", \"Assignment3_prediction_dt.csv\", 640)"
            ],
            "text/plain": [
              "<IPython.core.display.Javascript object>"
            ]
          },
          "metadata": {
            "tags": []
          }
        }
      ]
    },
    {
      "cell_type": "code",
      "metadata": {
        "id": "YbF3B2v7SF8B"
      },
      "source": [
        "from sklearn.model_selection import LeaveOneOut\n",
        "cv = LeaveOneOut()\n",
        "parameters_dt = {\n",
        "        'max_depth': (10, 30, 50, 100, 150, 200),\n",
        "        'min_samples_split': (1, 2, 3),\n",
        "        'min_samples_leaf': (1, 2, 3),\n",
        "        'max_leaf_nodes': (5, 10, 15, 20),\n",
        "        'min_samples_split': (4, 6, 8, 10)\n",
        "}\n",
        "dt2 = DecisionTreeClassifier(random_state = 1)\n",
        "\n",
        "# Grid search cv\n",
        "grid_search_dt  = GridSearchCV(estimator = dt2, param_grid = parameters_dt, \n",
        "                          cv = cv, n_jobs = -1, verbose = 1, scoring='f1')"
      ],
      "execution_count": 54,
      "outputs": []
    },
    {
      "cell_type": "code",
      "metadata": {
        "colab": {
          "base_uri": "https://localhost:8080/"
        },
        "id": "ayKn_eSXSJLX",
        "outputId": "da3998be-c24a-426c-a0b5-594a8d1fdb13"
      },
      "source": [
        "grid_search_dt.fit(X_train, y_train)\n",
        "grid_search_dt.best_params_"
      ],
      "execution_count": 55,
      "outputs": [
        {
          "output_type": "stream",
          "text": [
            "Fitting 315 folds for each of 288 candidates, totalling 90720 fits\n"
          ],
          "name": "stdout"
        },
        {
          "output_type": "stream",
          "text": [
            "[Parallel(n_jobs=-1)]: Using backend LokyBackend with 2 concurrent workers.\n",
            "[Parallel(n_jobs=-1)]: Done 330 tasks      | elapsed:    3.8s\n",
            "[Parallel(n_jobs=-1)]: Done 2730 tasks      | elapsed:   19.6s\n",
            "[Parallel(n_jobs=-1)]: Done 6730 tasks      | elapsed:   46.4s\n",
            "[Parallel(n_jobs=-1)]: Done 12330 tasks      | elapsed:  1.4min\n",
            "[Parallel(n_jobs=-1)]: Done 19530 tasks      | elapsed:  2.2min\n",
            "[Parallel(n_jobs=-1)]: Done 28330 tasks      | elapsed:  3.2min\n",
            "[Parallel(n_jobs=-1)]: Done 38730 tasks      | elapsed:  4.4min\n",
            "[Parallel(n_jobs=-1)]: Done 50730 tasks      | elapsed:  5.7min\n",
            "[Parallel(n_jobs=-1)]: Done 64330 tasks      | elapsed:  7.3min\n",
            "[Parallel(n_jobs=-1)]: Done 79530 tasks      | elapsed:  9.0min\n",
            "[Parallel(n_jobs=-1)]: Done 90720 out of 90720 | elapsed: 10.2min finished\n"
          ],
          "name": "stderr"
        },
        {
          "output_type": "execute_result",
          "data": {
            "text/plain": [
              "{'max_depth': 10,\n",
              " 'max_leaf_nodes': 5,\n",
              " 'min_samples_leaf': 1,\n",
              " 'min_samples_split': 4}"
            ]
          },
          "metadata": {
            "tags": []
          },
          "execution_count": 55
        }
      ]
    },
    {
      "cell_type": "code",
      "metadata": {
        "colab": {
          "base_uri": "https://localhost:8080/"
        },
        "id": "YFunCXY7SMq5",
        "outputId": "252e958f-c4e8-4023-b9bd-b20fee89e2ab"
      },
      "source": [
        "print(\"Training sub dataset, F1 score: \", f1_score(y_train, grid_search_dt.predict(X_train)))\n",
        "print(\"Test sub dataset, F1 score: \", f1_score(y_test, grid_search_dt.predict(X_test)))"
      ],
      "execution_count": 56,
      "outputs": [
        {
          "output_type": "stream",
          "text": [
            "Training sub dataset, F1 score:  0.8906882591093118\n",
            "Test sub dataset, F1 score:  0.8902439024390244\n"
          ],
          "name": "stdout"
        }
      ]
    },
    {
      "cell_type": "code",
      "metadata": {
        "colab": {
          "base_uri": "https://localhost:8080/",
          "height": 34
        },
        "id": "8uncwcXTSeyX",
        "outputId": "de933251-eeb9-4b0b-d2ca-64fb6033b12d"
      },
      "source": [
        "predictions_dt2 = grid_search_dt.predict(test_data)\n",
        "# To create Dataframe of predicted value with particular respective index\n",
        "res = pd.DataFrame(predictions_dt2) #preditcions are nothing but the final predictions of your model on input features of your new unseen test data\n",
        "res.index = test_data.index # its important for comparison. Here \"test_data\" is your new test dataset\n",
        "res.columns = [\"prediction\"]\n",
        "\n",
        "from google.colab import files\n",
        "res.to_csv('Assignment3_prediction_GridSearch_dt.csv')         \n",
        "files.download('Assignment3_prediction_GridSearch_dt.csv')"
      ],
      "execution_count": 57,
      "outputs": [
        {
          "output_type": "display_data",
          "data": {
            "application/javascript": [
              "\n",
              "    async function download(id, filename, size) {\n",
              "      if (!google.colab.kernel.accessAllowed) {\n",
              "        return;\n",
              "      }\n",
              "      const div = document.createElement('div');\n",
              "      const label = document.createElement('label');\n",
              "      label.textContent = `Downloading \"${filename}\": `;\n",
              "      div.appendChild(label);\n",
              "      const progress = document.createElement('progress');\n",
              "      progress.max = size;\n",
              "      div.appendChild(progress);\n",
              "      document.body.appendChild(div);\n",
              "\n",
              "      const buffers = [];\n",
              "      let downloaded = 0;\n",
              "\n",
              "      const channel = await google.colab.kernel.comms.open(id);\n",
              "      // Send a message to notify the kernel that we're ready.\n",
              "      channel.send({})\n",
              "\n",
              "      for await (const message of channel.messages) {\n",
              "        // Send a message to notify the kernel that we're ready.\n",
              "        channel.send({})\n",
              "        if (message.buffers) {\n",
              "          for (const buffer of message.buffers) {\n",
              "            buffers.push(buffer);\n",
              "            downloaded += buffer.byteLength;\n",
              "            progress.value = downloaded;\n",
              "          }\n",
              "        }\n",
              "      }\n",
              "      const blob = new Blob(buffers, {type: 'application/binary'});\n",
              "      const a = document.createElement('a');\n",
              "      a.href = window.URL.createObjectURL(blob);\n",
              "      a.download = filename;\n",
              "      div.appendChild(a);\n",
              "      a.click();\n",
              "      div.remove();\n",
              "    }\n",
              "  "
            ],
            "text/plain": [
              "<IPython.core.display.Javascript object>"
            ]
          },
          "metadata": {
            "tags": []
          }
        },
        {
          "output_type": "display_data",
          "data": {
            "application/javascript": [
              "download(\"download_1e4771f3-8ee9-4269-83c3-f113dbf063d9\", \"Assignment3_prediction_GridSearch_dt.csv\", 640)"
            ],
            "text/plain": [
              "<IPython.core.display.Javascript object>"
            ]
          },
          "metadata": {
            "tags": []
          }
        }
      ]
    },
    {
      "cell_type": "markdown",
      "metadata": {
        "id": "kzUCT1rhfw9K"
      },
      "source": [
        "## Build a Gradient Booster Model on train set"
      ]
    },
    {
      "cell_type": "code",
      "metadata": {
        "colab": {
          "base_uri": "https://localhost:8080/"
        },
        "id": "FFYKINAIfzNm",
        "outputId": "711db802-f19d-45e0-9964-c93098b3011e"
      },
      "source": [
        "from sklearn.ensemble import GradientBoostingClassifier\n",
        "gb = GradientBoostingClassifier(random_state=1, max_depth=10,min_samples_split=3,learning_rate=0.1,max_features=7)\n",
        " \n",
        "gb.fit(X_train, y_train)\n",
        "print(\"Training sub dataset, F1 score: \", f1_score(y_train, gb.predict(X_train)))\n",
        "print(\"Test sub dataset, F1 score: \", f1_score(y_test, gb.predict(X_test)))"
      ],
      "execution_count": 62,
      "outputs": [
        {
          "output_type": "stream",
          "text": [
            "Training sub dataset, F1 score:  1.0\n",
            "Test sub dataset, F1 score:  0.8235294117647058\n"
          ],
          "name": "stdout"
        }
      ]
    },
    {
      "cell_type": "code",
      "metadata": {
        "colab": {
          "base_uri": "https://localhost:8080/",
          "height": 34
        },
        "id": "cIjcLCiViP73",
        "outputId": "9f29f2b4-04a7-432f-8870-58c39f6e3139"
      },
      "source": [
        "predictions_gb1 = gb.predict(test_data)\n",
        "# To create Dataframe of predicted value with particular respective index\n",
        "res = pd.DataFrame(predictions_gb1) #preditcions are nothing but the final predictions of your model on input features of your new unseen test data\n",
        "res.index = test_data.index # its important for comparison. Here \"test_data\" is your new test dataset\n",
        "res.columns = [\"prediction\"]\n",
        "\n",
        "from google.colab import files\n",
        "res.to_csv('Assignment3_prediction_gb.csv')         \n",
        "files.download('Assignment3_prediction_gb.csv')"
      ],
      "execution_count": 59,
      "outputs": [
        {
          "output_type": "display_data",
          "data": {
            "application/javascript": [
              "\n",
              "    async function download(id, filename, size) {\n",
              "      if (!google.colab.kernel.accessAllowed) {\n",
              "        return;\n",
              "      }\n",
              "      const div = document.createElement('div');\n",
              "      const label = document.createElement('label');\n",
              "      label.textContent = `Downloading \"${filename}\": `;\n",
              "      div.appendChild(label);\n",
              "      const progress = document.createElement('progress');\n",
              "      progress.max = size;\n",
              "      div.appendChild(progress);\n",
              "      document.body.appendChild(div);\n",
              "\n",
              "      const buffers = [];\n",
              "      let downloaded = 0;\n",
              "\n",
              "      const channel = await google.colab.kernel.comms.open(id);\n",
              "      // Send a message to notify the kernel that we're ready.\n",
              "      channel.send({})\n",
              "\n",
              "      for await (const message of channel.messages) {\n",
              "        // Send a message to notify the kernel that we're ready.\n",
              "        channel.send({})\n",
              "        if (message.buffers) {\n",
              "          for (const buffer of message.buffers) {\n",
              "            buffers.push(buffer);\n",
              "            downloaded += buffer.byteLength;\n",
              "            progress.value = downloaded;\n",
              "          }\n",
              "        }\n",
              "      }\n",
              "      const blob = new Blob(buffers, {type: 'application/binary'});\n",
              "      const a = document.createElement('a');\n",
              "      a.href = window.URL.createObjectURL(blob);\n",
              "      a.download = filename;\n",
              "      div.appendChild(a);\n",
              "      a.click();\n",
              "      div.remove();\n",
              "    }\n",
              "  "
            ],
            "text/plain": [
              "<IPython.core.display.Javascript object>"
            ]
          },
          "metadata": {
            "tags": []
          }
        },
        {
          "output_type": "display_data",
          "data": {
            "application/javascript": [
              "download(\"download_3fe2ab4b-e35d-465e-9b58-ae0a2e6f9272\", \"Assignment3_prediction_gb.csv\", 640)"
            ],
            "text/plain": [
              "<IPython.core.display.Javascript object>"
            ]
          },
          "metadata": {
            "tags": []
          }
        }
      ]
    },
    {
      "cell_type": "code",
      "metadata": {
        "id": "uab6fWGzinp-"
      },
      "source": [
        "parameters_gb ={\n",
        "'min_samples_split': [2,3,4,5],\n",
        "'max_depth': [3,5,7,9,None],\n",
        "'learning_rate': [0.05,0.1, 0.15, 0.2, 0.3]}\n",
        "\n",
        "gb2 = GradientBoostingClassifier(random_state = 1)\n",
        "\n",
        "# Grid search cv\n",
        "grid_search_gb  = GridSearchCV(estimator = gb2, param_grid = parameters_gb, \n",
        "                          cv = cv, n_jobs = -1, verbose = 1, scoring='f1')"
      ],
      "execution_count": 60,
      "outputs": []
    },
    {
      "cell_type": "code",
      "metadata": {
        "colab": {
          "base_uri": "https://localhost:8080/"
        },
        "id": "e1Z2upG4irLQ",
        "outputId": "b96e57aa-5759-4a3c-e60a-11e117e906c1"
      },
      "source": [
        "grid_search_gb.fit(X_train, y_train)\n",
        "grid_search_gb.best_params_"
      ],
      "execution_count": 61,
      "outputs": [
        {
          "output_type": "stream",
          "text": [
            "Fitting 315 folds for each of 100 candidates, totalling 31500 fits\n"
          ],
          "name": "stdout"
        },
        {
          "output_type": "stream",
          "text": [
            "[Parallel(n_jobs=-1)]: Using backend LokyBackend with 2 concurrent workers.\n",
            "[Parallel(n_jobs=-1)]: Done  46 tasks      | elapsed:    5.4s\n",
            "[Parallel(n_jobs=-1)]: Done 196 tasks      | elapsed:   17.8s\n",
            "[Parallel(n_jobs=-1)]: Done 446 tasks      | elapsed:   38.5s\n",
            "[Parallel(n_jobs=-1)]: Done 796 tasks      | elapsed:  1.1min\n",
            "[Parallel(n_jobs=-1)]: Done 1246 tasks      | elapsed:  1.7min\n",
            "[Parallel(n_jobs=-1)]: Done 1796 tasks      | elapsed:  2.9min\n",
            "[Parallel(n_jobs=-1)]: Done 2446 tasks      | elapsed:  4.3min\n",
            "[Parallel(n_jobs=-1)]: Done 3196 tasks      | elapsed:  6.5min\n",
            "[Parallel(n_jobs=-1)]: Done 4046 tasks      | elapsed:  9.4min\n",
            "[Parallel(n_jobs=-1)]: Done 4996 tasks      | elapsed: 13.2min\n",
            "[Parallel(n_jobs=-1)]: Done 6046 tasks      | elapsed: 18.9min\n",
            "[Parallel(n_jobs=-1)]: Done 7196 tasks      | elapsed: 21.7min\n",
            "[Parallel(n_jobs=-1)]: Done 8446 tasks      | elapsed: 24.1min\n",
            "[Parallel(n_jobs=-1)]: Done 9796 tasks      | elapsed: 27.9min\n",
            "[Parallel(n_jobs=-1)]: Done 11246 tasks      | elapsed: 33.7min\n",
            "[Parallel(n_jobs=-1)]: Done 12796 tasks      | elapsed: 41.6min\n",
            "[Parallel(n_jobs=-1)]: Done 14446 tasks      | elapsed: 44.3min\n",
            "[Parallel(n_jobs=-1)]: Done 16196 tasks      | elapsed: 49.1min\n",
            "[Parallel(n_jobs=-1)]: Done 18046 tasks      | elapsed: 57.4min\n",
            "[Parallel(n_jobs=-1)]: Done 19996 tasks      | elapsed: 64.2min\n",
            "[Parallel(n_jobs=-1)]: Done 22046 tasks      | elapsed: 69.3min\n",
            "[Parallel(n_jobs=-1)]: Done 24196 tasks      | elapsed: 78.2min\n",
            "[Parallel(n_jobs=-1)]: Done 26446 tasks      | elapsed: 86.1min\n",
            "[Parallel(n_jobs=-1)]: Done 28796 tasks      | elapsed: 92.4min\n",
            "[Parallel(n_jobs=-1)]: Done 31246 tasks      | elapsed: 104.6min\n",
            "[Parallel(n_jobs=-1)]: Done 31500 out of 31500 | elapsed: 106.6min finished\n"
          ],
          "name": "stderr"
        },
        {
          "output_type": "execute_result",
          "data": {
            "text/plain": [
              "{'learning_rate': 0.05, 'max_depth': 3, 'min_samples_split': 2}"
            ]
          },
          "metadata": {
            "tags": []
          },
          "execution_count": 61
        }
      ]
    },
    {
      "cell_type": "code",
      "metadata": {
        "colab": {
          "base_uri": "https://localhost:8080/"
        },
        "id": "cV_tSjX3ivAz",
        "outputId": "57e933aa-fe92-4114-cf28-9ab69846390f"
      },
      "source": [
        "print(\"Training sub dataset, F1 score: \", f1_score(y_train, grid_search_gb.predict(X_train)))\n",
        "print(\"Test sub dataset, F1 score: \", f1_score(y_test, grid_search_gb.predict(X_test)))"
      ],
      "execution_count": 63,
      "outputs": [
        {
          "output_type": "stream",
          "text": [
            "Training sub dataset, F1 score:  0.9253112033195021\n",
            "Test sub dataset, F1 score:  0.8805031446540881\n"
          ],
          "name": "stdout"
        }
      ]
    },
    {
      "cell_type": "code",
      "metadata": {
        "colab": {
          "base_uri": "https://localhost:8080/",
          "height": 34
        },
        "id": "OG1TCWi_i1Fl",
        "outputId": "f2e691bc-632d-40c9-8a06-108488578cc4"
      },
      "source": [
        "predictions_gb2 = grid_search_gb.predict(test_data)\n",
        "# To create Dataframe of predicted value with particular respective index\n",
        "res = pd.DataFrame(predictions_gb2) #preditcions are nothing but the final predictions of your model on input features of your new unseen test data\n",
        "res.index = test_data.index # its important for comparison. Here \"test_data\" is your new test dataset\n",
        "res.columns = [\"prediction\"]\n",
        "\n",
        "from google.colab import files\n",
        "res.to_csv('Assignment3_prediction_GridSearch_gb.csv')         \n",
        "files.download('Assignment3_prediction_GridSearch_gb.csv')"
      ],
      "execution_count": 64,
      "outputs": [
        {
          "output_type": "display_data",
          "data": {
            "application/javascript": [
              "\n",
              "    async function download(id, filename, size) {\n",
              "      if (!google.colab.kernel.accessAllowed) {\n",
              "        return;\n",
              "      }\n",
              "      const div = document.createElement('div');\n",
              "      const label = document.createElement('label');\n",
              "      label.textContent = `Downloading \"${filename}\": `;\n",
              "      div.appendChild(label);\n",
              "      const progress = document.createElement('progress');\n",
              "      progress.max = size;\n",
              "      div.appendChild(progress);\n",
              "      document.body.appendChild(div);\n",
              "\n",
              "      const buffers = [];\n",
              "      let downloaded = 0;\n",
              "\n",
              "      const channel = await google.colab.kernel.comms.open(id);\n",
              "      // Send a message to notify the kernel that we're ready.\n",
              "      channel.send({})\n",
              "\n",
              "      for await (const message of channel.messages) {\n",
              "        // Send a message to notify the kernel that we're ready.\n",
              "        channel.send({})\n",
              "        if (message.buffers) {\n",
              "          for (const buffer of message.buffers) {\n",
              "            buffers.push(buffer);\n",
              "            downloaded += buffer.byteLength;\n",
              "            progress.value = downloaded;\n",
              "          }\n",
              "        }\n",
              "      }\n",
              "      const blob = new Blob(buffers, {type: 'application/binary'});\n",
              "      const a = document.createElement('a');\n",
              "      a.href = window.URL.createObjectURL(blob);\n",
              "      a.download = filename;\n",
              "      div.appendChild(a);\n",
              "      a.click();\n",
              "      div.remove();\n",
              "    }\n",
              "  "
            ],
            "text/plain": [
              "<IPython.core.display.Javascript object>"
            ]
          },
          "metadata": {
            "tags": []
          }
        },
        {
          "output_type": "display_data",
          "data": {
            "application/javascript": [
              "download(\"download_8f100dc1-a4e5-49a2-a624-b432e7351e07\", \"Assignment3_prediction_GridSearch_gb.csv\", 640)"
            ],
            "text/plain": [
              "<IPython.core.display.Javascript object>"
            ]
          },
          "metadata": {
            "tags": []
          }
        }
      ]
    },
    {
      "cell_type": "markdown",
      "metadata": {
        "id": "dTxM2JZhLL2J"
      },
      "source": [
        "## Build a Neural Network Model on train set"
      ]
    },
    {
      "cell_type": "code",
      "metadata": {
        "colab": {
          "base_uri": "https://localhost:8080/"
        },
        "id": "4IzkEQFQLPXu",
        "outputId": "b861ecbe-74b2-444f-b9f5-2bdae7b6b030"
      },
      "source": [
        "import tensorflow as tf\n",
        "from tensorflow import keras\n",
        "import numpy as np\n",
        "\n",
        "dl = keras.Sequential([\n",
        "    keras.layers.Flatten(input_shape=(23,)),\n",
        "    #keras.layers.Dense(13, activation=tf.nn.relu, input_shape=(13,)),\n",
        "    keras.layers.Dense(64, activation=tf.nn.relu),\n",
        "    keras.layers.Dense(64, activation=tf.nn.relu),\n",
        "    keras.layers.Dropout(0.2),\n",
        "    keras.layers.Dense(64, activation=tf.nn.relu),\n",
        "    keras.layers.Dense(1, activation=tf.nn.sigmoid),\n",
        "])\n",
        "\n",
        "dl.compile(optimizer='adam',\n",
        "              loss='binary_crossentropy',\n",
        "              metrics=['accuracy'])\n",
        "\n",
        "dl.fit(X_train, y_train, epochs=100, batch_size=5)\n",
        "\n",
        "test_loss, test_acc = dl.evaluate(X_test, y_test)\n",
        "print('Test accuracy:', test_acc)"
      ],
      "execution_count": 66,
      "outputs": [
        {
          "output_type": "stream",
          "text": [
            "Epoch 1/100\n",
            "63/63 [==============================] - 1s 1ms/step - loss: 53.4162 - accuracy: 0.6282\n",
            "Epoch 2/100\n",
            "63/63 [==============================] - 0s 1ms/step - loss: 33.2352 - accuracy: 0.5948\n",
            "Epoch 3/100\n",
            "63/63 [==============================] - 0s 2ms/step - loss: 25.1803 - accuracy: 0.5744\n",
            "Epoch 4/100\n",
            "63/63 [==============================] - 0s 1ms/step - loss: 31.3142 - accuracy: 0.5398\n",
            "Epoch 5/100\n",
            "63/63 [==============================] - 0s 1ms/step - loss: 10.0449 - accuracy: 0.6166\n",
            "Epoch 6/100\n",
            "63/63 [==============================] - 0s 1ms/step - loss: 14.0580 - accuracy: 0.6223\n",
            "Epoch 7/100\n",
            "63/63 [==============================] - 0s 1ms/step - loss: 9.9439 - accuracy: 0.6140\n",
            "Epoch 8/100\n",
            "63/63 [==============================] - 0s 1ms/step - loss: 8.8008 - accuracy: 0.5584\n",
            "Epoch 9/100\n",
            "63/63 [==============================] - 0s 1ms/step - loss: 6.5964 - accuracy: 0.5847\n",
            "Epoch 10/100\n",
            "63/63 [==============================] - 0s 1ms/step - loss: 5.3591 - accuracy: 0.5742\n",
            "Epoch 11/100\n",
            "63/63 [==============================] - 0s 1ms/step - loss: 2.9698 - accuracy: 0.6606\n",
            "Epoch 12/100\n",
            "63/63 [==============================] - 0s 1ms/step - loss: 2.6112 - accuracy: 0.6062\n",
            "Epoch 13/100\n",
            "63/63 [==============================] - 0s 1ms/step - loss: 3.7582 - accuracy: 0.5846\n",
            "Epoch 14/100\n",
            "63/63 [==============================] - 0s 1ms/step - loss: 3.3309 - accuracy: 0.5986\n",
            "Epoch 15/100\n",
            "63/63 [==============================] - 0s 1ms/step - loss: 2.0587 - accuracy: 0.5711\n",
            "Epoch 16/100\n",
            "63/63 [==============================] - 0s 2ms/step - loss: 3.8073 - accuracy: 0.6152\n",
            "Epoch 17/100\n",
            "63/63 [==============================] - 0s 1ms/step - loss: 2.2496 - accuracy: 0.5724\n",
            "Epoch 18/100\n",
            "63/63 [==============================] - 0s 1ms/step - loss: 1.5614 - accuracy: 0.6819\n",
            "Epoch 19/100\n",
            "63/63 [==============================] - 0s 1ms/step - loss: 0.8624 - accuracy: 0.6532\n",
            "Epoch 20/100\n",
            "63/63 [==============================] - 0s 1ms/step - loss: 1.1419 - accuracy: 0.6667\n",
            "Epoch 21/100\n",
            "63/63 [==============================] - 0s 1ms/step - loss: 1.0796 - accuracy: 0.5121\n",
            "Epoch 22/100\n",
            "63/63 [==============================] - 0s 1ms/step - loss: 0.6908 - accuracy: 0.6381\n",
            "Epoch 23/100\n",
            "63/63 [==============================] - 0s 2ms/step - loss: 0.6759 - accuracy: 0.6564\n",
            "Epoch 24/100\n",
            "63/63 [==============================] - 0s 1ms/step - loss: 0.6484 - accuracy: 0.7519\n",
            "Epoch 25/100\n",
            "63/63 [==============================] - 0s 1ms/step - loss: 0.6192 - accuracy: 0.7793\n",
            "Epoch 26/100\n",
            "63/63 [==============================] - 0s 1ms/step - loss: 0.8591 - accuracy: 0.7017\n",
            "Epoch 27/100\n",
            "63/63 [==============================] - 0s 1ms/step - loss: 0.6315 - accuracy: 0.6785\n",
            "Epoch 28/100\n",
            "63/63 [==============================] - 0s 1ms/step - loss: 0.6792 - accuracy: 0.6931\n",
            "Epoch 29/100\n",
            "63/63 [==============================] - 0s 1ms/step - loss: 1.0171 - accuracy: 0.7068\n",
            "Epoch 30/100\n",
            "63/63 [==============================] - 0s 1ms/step - loss: 0.6750 - accuracy: 0.7232\n",
            "Epoch 31/100\n",
            "63/63 [==============================] - 0s 1ms/step - loss: 0.7050 - accuracy: 0.6799\n",
            "Epoch 32/100\n",
            "63/63 [==============================] - 0s 1ms/step - loss: 0.9999 - accuracy: 0.5906\n",
            "Epoch 33/100\n",
            "63/63 [==============================] - 0s 1ms/step - loss: 0.6676 - accuracy: 0.6777\n",
            "Epoch 34/100\n",
            "63/63 [==============================] - 0s 1ms/step - loss: 0.7307 - accuracy: 0.6754\n",
            "Epoch 35/100\n",
            "63/63 [==============================] - 0s 1ms/step - loss: 0.7183 - accuracy: 0.6934\n",
            "Epoch 36/100\n",
            "63/63 [==============================] - 0s 1ms/step - loss: 0.6654 - accuracy: 0.7243\n",
            "Epoch 37/100\n",
            "63/63 [==============================] - 0s 1ms/step - loss: 0.6331 - accuracy: 0.7453\n",
            "Epoch 38/100\n",
            "63/63 [==============================] - 0s 2ms/step - loss: 0.6444 - accuracy: 0.7295\n",
            "Epoch 39/100\n",
            "63/63 [==============================] - 0s 1ms/step - loss: 0.9819 - accuracy: 0.6872\n",
            "Epoch 40/100\n",
            "63/63 [==============================] - 0s 1ms/step - loss: 1.0746 - accuracy: 0.6945\n",
            "Epoch 41/100\n",
            "63/63 [==============================] - 0s 1ms/step - loss: 0.7771 - accuracy: 0.6757\n",
            "Epoch 42/100\n",
            "63/63 [==============================] - 0s 2ms/step - loss: 1.4935 - accuracy: 0.7594\n",
            "Epoch 43/100\n",
            "63/63 [==============================] - 0s 1ms/step - loss: 1.0229 - accuracy: 0.7103\n",
            "Epoch 44/100\n",
            "63/63 [==============================] - 0s 1ms/step - loss: 0.5514 - accuracy: 0.7509\n",
            "Epoch 45/100\n",
            "63/63 [==============================] - 0s 1ms/step - loss: 0.5822 - accuracy: 0.7265\n",
            "Epoch 46/100\n",
            "63/63 [==============================] - 0s 2ms/step - loss: 0.6209 - accuracy: 0.6891\n",
            "Epoch 47/100\n",
            "63/63 [==============================] - 0s 2ms/step - loss: 0.6344 - accuracy: 0.7388\n",
            "Epoch 48/100\n",
            "63/63 [==============================] - 0s 2ms/step - loss: 0.6586 - accuracy: 0.7096\n",
            "Epoch 49/100\n",
            "63/63 [==============================] - 0s 1ms/step - loss: 0.5852 - accuracy: 0.7263\n",
            "Epoch 50/100\n",
            "63/63 [==============================] - 0s 1ms/step - loss: 0.5393 - accuracy: 0.7749\n",
            "Epoch 51/100\n",
            "63/63 [==============================] - 0s 1ms/step - loss: 0.6043 - accuracy: 0.7116\n",
            "Epoch 52/100\n",
            "63/63 [==============================] - 0s 1ms/step - loss: 0.6244 - accuracy: 0.6839\n",
            "Epoch 53/100\n",
            "63/63 [==============================] - 0s 1ms/step - loss: 0.6143 - accuracy: 0.6952\n",
            "Epoch 54/100\n",
            "63/63 [==============================] - 0s 1ms/step - loss: 0.6210 - accuracy: 0.6832\n",
            "Epoch 55/100\n",
            "63/63 [==============================] - 0s 1ms/step - loss: 0.5806 - accuracy: 0.7357\n",
            "Epoch 56/100\n",
            "63/63 [==============================] - 0s 1ms/step - loss: 0.6342 - accuracy: 0.6763\n",
            "Epoch 57/100\n",
            "63/63 [==============================] - 0s 1ms/step - loss: 0.6118 - accuracy: 0.7002\n",
            "Epoch 58/100\n",
            "63/63 [==============================] - 0s 1ms/step - loss: 0.6121 - accuracy: 0.6994\n",
            "Epoch 59/100\n",
            "63/63 [==============================] - 0s 2ms/step - loss: 0.5803 - accuracy: 0.7349\n",
            "Epoch 60/100\n",
            "63/63 [==============================] - 0s 2ms/step - loss: 0.6077 - accuracy: 0.7037\n",
            "Epoch 61/100\n",
            "63/63 [==============================] - 0s 1ms/step - loss: 0.6158 - accuracy: 0.6919\n",
            "Epoch 62/100\n",
            "63/63 [==============================] - 0s 1ms/step - loss: 0.6054 - accuracy: 0.7030\n",
            "Epoch 63/100\n",
            "63/63 [==============================] - 0s 1ms/step - loss: 0.5936 - accuracy: 0.7167\n",
            "Epoch 64/100\n",
            "63/63 [==============================] - 0s 1ms/step - loss: 0.6089 - accuracy: 0.7008\n",
            "Epoch 65/100\n",
            "63/63 [==============================] - 0s 1ms/step - loss: 0.6211 - accuracy: 0.6871\n",
            "Epoch 66/100\n",
            "63/63 [==============================] - 0s 1ms/step - loss: 0.6535 - accuracy: 0.6536\n",
            "Epoch 67/100\n",
            "63/63 [==============================] - 0s 2ms/step - loss: 0.5728 - accuracy: 0.7400\n",
            "Epoch 68/100\n",
            "63/63 [==============================] - 0s 2ms/step - loss: 0.5776 - accuracy: 0.7370\n",
            "Epoch 69/100\n",
            "63/63 [==============================] - 0s 2ms/step - loss: 0.6055 - accuracy: 0.7045\n",
            "Epoch 70/100\n",
            "63/63 [==============================] - 0s 1ms/step - loss: 0.5883 - accuracy: 0.7229\n",
            "Epoch 71/100\n",
            "63/63 [==============================] - 0s 1ms/step - loss: 0.6193 - accuracy: 0.6906\n",
            "Epoch 72/100\n",
            "63/63 [==============================] - 0s 1ms/step - loss: 0.6039 - accuracy: 0.7070\n",
            "Epoch 73/100\n",
            "63/63 [==============================] - 0s 1ms/step - loss: 0.5819 - accuracy: 0.7319\n",
            "Epoch 74/100\n",
            "63/63 [==============================] - 0s 2ms/step - loss: 0.5841 - accuracy: 0.7300\n",
            "Epoch 75/100\n",
            "63/63 [==============================] - 0s 1ms/step - loss: 0.6073 - accuracy: 0.7023\n",
            "Epoch 76/100\n",
            "63/63 [==============================] - 0s 1ms/step - loss: 0.5917 - accuracy: 0.7198\n",
            "Epoch 77/100\n",
            "63/63 [==============================] - 0s 1ms/step - loss: 0.5956 - accuracy: 0.7164\n",
            "Epoch 78/100\n",
            "63/63 [==============================] - 0s 2ms/step - loss: 0.6041 - accuracy: 0.7052\n",
            "Epoch 79/100\n",
            "63/63 [==============================] - 0s 1ms/step - loss: 0.6005 - accuracy: 0.7118\n",
            "Epoch 80/100\n",
            "63/63 [==============================] - 0s 1ms/step - loss: 0.5930 - accuracy: 0.7175\n",
            "Epoch 81/100\n",
            "63/63 [==============================] - 0s 1ms/step - loss: 0.6128 - accuracy: 0.6966\n",
            "Epoch 82/100\n",
            "63/63 [==============================] - 0s 1ms/step - loss: 0.6316 - accuracy: 0.6767\n",
            "Epoch 83/100\n",
            "63/63 [==============================] - 0s 2ms/step - loss: 0.5943 - accuracy: 0.7155\n",
            "Epoch 84/100\n",
            "63/63 [==============================] - 0s 1ms/step - loss: 0.6359 - accuracy: 0.6674\n",
            "Epoch 85/100\n",
            "63/63 [==============================] - 0s 1ms/step - loss: 0.5825 - accuracy: 0.7290\n",
            "Epoch 86/100\n",
            "63/63 [==============================] - 0s 1ms/step - loss: 0.6106 - accuracy: 0.6976\n",
            "Epoch 87/100\n",
            "63/63 [==============================] - 0s 1ms/step - loss: 0.6095 - accuracy: 0.7005\n",
            "Epoch 88/100\n",
            "63/63 [==============================] - 0s 2ms/step - loss: 0.5830 - accuracy: 0.7254\n",
            "Epoch 89/100\n",
            "63/63 [==============================] - 0s 1ms/step - loss: 0.6061 - accuracy: 0.7028\n",
            "Epoch 90/100\n",
            "63/63 [==============================] - 0s 2ms/step - loss: 0.5895 - accuracy: 0.7219\n",
            "Epoch 91/100\n",
            "63/63 [==============================] - 0s 1ms/step - loss: 0.5720 - accuracy: 0.7386\n",
            "Epoch 92/100\n",
            "63/63 [==============================] - 0s 1ms/step - loss: 0.5871 - accuracy: 0.7258\n",
            "Epoch 93/100\n",
            "63/63 [==============================] - 0s 1ms/step - loss: 0.5727 - accuracy: 0.7411\n",
            "Epoch 94/100\n",
            "63/63 [==============================] - 0s 2ms/step - loss: 0.6392 - accuracy: 0.6630\n",
            "Epoch 95/100\n",
            "63/63 [==============================] - 0s 1ms/step - loss: 0.5899 - accuracy: 0.7174\n",
            "Epoch 96/100\n",
            "63/63 [==============================] - 0s 1ms/step - loss: 0.6312 - accuracy: 0.6746\n",
            "Epoch 97/100\n",
            "63/63 [==============================] - 0s 1ms/step - loss: 0.5749 - accuracy: 0.7368\n",
            "Epoch 98/100\n",
            "63/63 [==============================] - 0s 1ms/step - loss: 0.5517 - accuracy: 0.7650\n",
            "Epoch 99/100\n",
            "63/63 [==============================] - 0s 1ms/step - loss: 0.5860 - accuracy: 0.7261\n",
            "Epoch 100/100\n",
            "63/63 [==============================] - 0s 1ms/step - loss: 0.5796 - accuracy: 0.7322\n",
            "4/4 [==============================] - 0s 3ms/step - loss: 0.5859 - accuracy: 0.7238\n",
            "Test accuracy: 0.723809540271759\n"
          ],
          "name": "stdout"
        }
      ]
    },
    {
      "cell_type": "code",
      "metadata": {
        "colab": {
          "base_uri": "https://localhost:8080/",
          "height": 34
        },
        "id": "1omGlbtjLnsn",
        "outputId": "3958efe6-c14d-47aa-e6df-f9d9f0f7ce26"
      },
      "source": [
        "predictions_dl1 = dl.predict_classes(test_data)\n",
        "# To create Dataframe of predicted value with particular respective index\n",
        "res = pd.DataFrame(predictions_dl1) #preditcions are nothing but the final predictions of your model on input features of your new unseen test data\n",
        "res.index = test_data.index # its important for comparison. Here \"test_data\" is your new test dataset\n",
        "res.columns = [\"prediction\"]\n",
        "\n",
        "from google.colab import files\n",
        "res.to_csv('Assignment3_prediction_dl.csv')         \n",
        "files.download('Assignment3_prediction_dl.csv')"
      ],
      "execution_count": 67,
      "outputs": [
        {
          "output_type": "display_data",
          "data": {
            "application/javascript": [
              "\n",
              "    async function download(id, filename, size) {\n",
              "      if (!google.colab.kernel.accessAllowed) {\n",
              "        return;\n",
              "      }\n",
              "      const div = document.createElement('div');\n",
              "      const label = document.createElement('label');\n",
              "      label.textContent = `Downloading \"${filename}\": `;\n",
              "      div.appendChild(label);\n",
              "      const progress = document.createElement('progress');\n",
              "      progress.max = size;\n",
              "      div.appendChild(progress);\n",
              "      document.body.appendChild(div);\n",
              "\n",
              "      const buffers = [];\n",
              "      let downloaded = 0;\n",
              "\n",
              "      const channel = await google.colab.kernel.comms.open(id);\n",
              "      // Send a message to notify the kernel that we're ready.\n",
              "      channel.send({})\n",
              "\n",
              "      for await (const message of channel.messages) {\n",
              "        // Send a message to notify the kernel that we're ready.\n",
              "        channel.send({})\n",
              "        if (message.buffers) {\n",
              "          for (const buffer of message.buffers) {\n",
              "            buffers.push(buffer);\n",
              "            downloaded += buffer.byteLength;\n",
              "            progress.value = downloaded;\n",
              "          }\n",
              "        }\n",
              "      }\n",
              "      const blob = new Blob(buffers, {type: 'application/binary'});\n",
              "      const a = document.createElement('a');\n",
              "      a.href = window.URL.createObjectURL(blob);\n",
              "      a.download = filename;\n",
              "      div.appendChild(a);\n",
              "      a.click();\n",
              "      div.remove();\n",
              "    }\n",
              "  "
            ],
            "text/plain": [
              "<IPython.core.display.Javascript object>"
            ]
          },
          "metadata": {
            "tags": []
          }
        },
        {
          "output_type": "display_data",
          "data": {
            "application/javascript": [
              "download(\"download_c56e56ea-8978-4a6e-a517-dc649b2726c6\", \"Assignment3_prediction_dl.csv\", 640)"
            ],
            "text/plain": [
              "<IPython.core.display.Javascript object>"
            ]
          },
          "metadata": {
            "tags": []
          }
        }
      ]
    }
  ]
}